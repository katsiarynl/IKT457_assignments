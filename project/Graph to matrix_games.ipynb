{
 "cells": [
  {
   "cell_type": "code",
   "execution_count": 25,
   "id": "b072b8bf-35a4-4415-9ae4-767a0e5e3554",
   "metadata": {},
   "outputs": [
    {
     "name": "stdout",
     "output_type": "stream",
     "text": [
      "Requirement already satisfied: numpy in /opt/conda/lib/python3.11/site-packages (1.26.2)\n",
      "Requirement already satisfied: keras in /opt/conda/lib/python3.11/site-packages (3.5.0)\n",
      "Requirement already satisfied: tensorflow in /opt/conda/lib/python3.11/site-packages (2.17.0)\n",
      "Requirement already satisfied: scikit-learn in /opt/conda/lib/python3.11/site-packages (1.3.2)\n",
      "Requirement already satisfied: scipy in /opt/conda/lib/python3.11/site-packages (1.11.4)\n",
      "Requirement already satisfied: tqdm in /opt/conda/lib/python3.11/site-packages (4.66.1)\n",
      "Requirement already satisfied: pillow in /opt/conda/lib/python3.11/site-packages (10.1.0)\n",
      "Collecting opencv-python\n",
      "  Using cached opencv_python-4.10.0.84-cp37-abi3-manylinux_2_17_x86_64.manylinux2014_x86_64.whl.metadata (20 kB)\n",
      "Collecting optuna\n",
      "  Using cached optuna-4.0.0-py3-none-any.whl.metadata (16 kB)\n",
      "Requirement already satisfied: absl-py in /opt/conda/lib/python3.11/site-packages (from keras) (2.1.0)\n",
      "Requirement already satisfied: rich in /opt/conda/lib/python3.11/site-packages (from keras) (13.9.1)\n",
      "Requirement already satisfied: namex in /opt/conda/lib/python3.11/site-packages (from keras) (0.0.8)\n",
      "Requirement already satisfied: h5py in /opt/conda/lib/python3.11/site-packages (from keras) (3.10.0)\n",
      "Requirement already satisfied: optree in /opt/conda/lib/python3.11/site-packages (from keras) (0.12.1)\n",
      "Requirement already satisfied: ml-dtypes in /opt/conda/lib/python3.11/site-packages (from keras) (0.4.1)\n",
      "Requirement already satisfied: packaging in /opt/conda/lib/python3.11/site-packages (from keras) (23.2)\n",
      "Requirement already satisfied: astunparse>=1.6.0 in /opt/conda/lib/python3.11/site-packages (from tensorflow) (1.6.3)\n",
      "Requirement already satisfied: flatbuffers>=24.3.25 in /opt/conda/lib/python3.11/site-packages (from tensorflow) (24.3.25)\n",
      "Requirement already satisfied: gast!=0.5.0,!=0.5.1,!=0.5.2,>=0.2.1 in /opt/conda/lib/python3.11/site-packages (from tensorflow) (0.6.0)\n",
      "Requirement already satisfied: google-pasta>=0.1.1 in /opt/conda/lib/python3.11/site-packages (from tensorflow) (0.2.0)\n",
      "Requirement already satisfied: libclang>=13.0.0 in /opt/conda/lib/python3.11/site-packages (from tensorflow) (18.1.1)\n",
      "Requirement already satisfied: opt-einsum>=2.3.2 in /opt/conda/lib/python3.11/site-packages (from tensorflow) (3.4.0)\n",
      "Requirement already satisfied: protobuf!=4.21.0,!=4.21.1,!=4.21.2,!=4.21.3,!=4.21.4,!=4.21.5,<5.0.0dev,>=3.20.3 in /opt/conda/lib/python3.11/site-packages (from tensorflow) (4.24.4)\n",
      "Requirement already satisfied: requests<3,>=2.21.0 in /opt/conda/lib/python3.11/site-packages (from tensorflow) (2.31.0)\n",
      "Requirement already satisfied: setuptools in /opt/conda/lib/python3.11/site-packages (from tensorflow) (68.2.2)\n",
      "Requirement already satisfied: six>=1.12.0 in /opt/conda/lib/python3.11/site-packages (from tensorflow) (1.16.0)\n",
      "Requirement already satisfied: termcolor>=1.1.0 in /opt/conda/lib/python3.11/site-packages (from tensorflow) (2.4.0)\n",
      "Requirement already satisfied: typing-extensions>=3.6.6 in /opt/conda/lib/python3.11/site-packages (from tensorflow) (4.8.0)\n",
      "Requirement already satisfied: wrapt>=1.11.0 in /opt/conda/lib/python3.11/site-packages (from tensorflow) (1.16.0)\n",
      "Requirement already satisfied: grpcio<2.0,>=1.24.3 in /opt/conda/lib/python3.11/site-packages (from tensorflow) (1.66.2)\n",
      "Requirement already satisfied: tensorboard<2.18,>=2.17 in /opt/conda/lib/python3.11/site-packages (from tensorflow) (2.17.1)\n",
      "Requirement already satisfied: tensorflow-io-gcs-filesystem>=0.23.1 in /opt/conda/lib/python3.11/site-packages (from tensorflow) (0.37.1)\n",
      "Requirement already satisfied: joblib>=1.1.1 in /opt/conda/lib/python3.11/site-packages (from scikit-learn) (1.3.2)\n",
      "Requirement already satisfied: threadpoolctl>=2.0.0 in /opt/conda/lib/python3.11/site-packages (from scikit-learn) (3.2.0)\n",
      "Requirement already satisfied: alembic>=1.5.0 in /opt/conda/lib/python3.11/site-packages (from optuna) (1.13.0)\n",
      "Collecting colorlog (from optuna)\n",
      "  Using cached colorlog-6.8.2-py3-none-any.whl.metadata (10 kB)\n",
      "Requirement already satisfied: sqlalchemy>=1.3.0 in /opt/conda/lib/python3.11/site-packages (from optuna) (2.0.23)\n",
      "Requirement already satisfied: PyYAML in /opt/conda/lib/python3.11/site-packages (from optuna) (6.0.1)\n",
      "Requirement already satisfied: Mako in /opt/conda/lib/python3.11/site-packages (from alembic>=1.5.0->optuna) (1.3.0)\n",
      "Requirement already satisfied: wheel<1.0,>=0.23.0 in /opt/conda/lib/python3.11/site-packages (from astunparse>=1.6.0->tensorflow) (0.42.0)\n",
      "Requirement already satisfied: charset-normalizer<4,>=2 in /opt/conda/lib/python3.11/site-packages (from requests<3,>=2.21.0->tensorflow) (3.3.2)\n",
      "Requirement already satisfied: idna<4,>=2.5 in /opt/conda/lib/python3.11/site-packages (from requests<3,>=2.21.0->tensorflow) (3.6)\n",
      "Requirement already satisfied: urllib3<3,>=1.21.1 in /opt/conda/lib/python3.11/site-packages (from requests<3,>=2.21.0->tensorflow) (2.1.0)\n",
      "Requirement already satisfied: certifi>=2017.4.17 in /opt/conda/lib/python3.11/site-packages (from requests<3,>=2.21.0->tensorflow) (2023.11.17)\n",
      "Requirement already satisfied: greenlet!=0.4.17 in /opt/conda/lib/python3.11/site-packages (from sqlalchemy>=1.3.0->optuna) (3.0.1)\n",
      "Requirement already satisfied: markdown>=2.6.8 in /opt/conda/lib/python3.11/site-packages (from tensorboard<2.18,>=2.17->tensorflow) (3.7)\n",
      "Requirement already satisfied: tensorboard-data-server<0.8.0,>=0.7.0 in /opt/conda/lib/python3.11/site-packages (from tensorboard<2.18,>=2.17->tensorflow) (0.7.2)\n",
      "Requirement already satisfied: werkzeug>=1.0.1 in /opt/conda/lib/python3.11/site-packages (from tensorboard<2.18,>=2.17->tensorflow) (3.0.4)\n",
      "Requirement already satisfied: markdown-it-py>=2.2.0 in /opt/conda/lib/python3.11/site-packages (from rich->keras) (3.0.0)\n",
      "Requirement already satisfied: pygments<3.0.0,>=2.13.0 in /opt/conda/lib/python3.11/site-packages (from rich->keras) (2.17.2)\n",
      "Requirement already satisfied: mdurl~=0.1 in /opt/conda/lib/python3.11/site-packages (from markdown-it-py>=2.2.0->rich->keras) (0.1.2)\n",
      "Requirement already satisfied: MarkupSafe>=2.1.1 in /opt/conda/lib/python3.11/site-packages (from werkzeug>=1.0.1->tensorboard<2.18,>=2.17->tensorflow) (2.1.3)\n",
      "Using cached opencv_python-4.10.0.84-cp37-abi3-manylinux_2_17_x86_64.manylinux2014_x86_64.whl (62.5 MB)\n",
      "Using cached optuna-4.0.0-py3-none-any.whl (362 kB)\n",
      "Using cached colorlog-6.8.2-py3-none-any.whl (11 kB)\n",
      "Installing collected packages: opencv-python, colorlog, optuna\n",
      "Successfully installed colorlog-6.8.2 opencv-python-4.10.0.84 optuna-4.0.0\n",
      "Collecting git+https://github.com/cair/tmu.git\n",
      "  Cloning https://github.com/cair/tmu.git to /tmp/pip-req-build-vvpd90z4\n",
      "  Running command git clone --filter=blob:none --quiet https://github.com/cair/tmu.git /tmp/pip-req-build-vvpd90z4\n",
      "  Resolved https://github.com/cair/tmu.git to commit df55ecb3c200b85489ac77fbb8d9a3bc9f7e0483\n",
      "  Installing build dependencies ... \u001b[?25ldone\n",
      "\u001b[?25h  Getting requirements to build wheel ... \u001b[?25ldone\n",
      "\u001b[?25h  Preparing metadata (pyproject.toml) ... \u001b[?25ldone\n",
      "\u001b[?25hRequirement already satisfied: cffi>=1.15.0 in /opt/conda/lib/python3.11/site-packages (from tmu==0.8.3) (1.16.0)\n",
      "Requirement already satisfied: numpy in /opt/conda/lib/python3.11/site-packages (from tmu==0.8.3) (1.26.2)\n",
      "Requirement already satisfied: pandas in /opt/conda/lib/python3.11/site-packages (from tmu==0.8.3) (2.1.3)\n",
      "Requirement already satisfied: scikit-learn in /opt/conda/lib/python3.11/site-packages (from tmu==0.8.3) (1.3.2)\n",
      "Requirement already satisfied: tqdm in /opt/conda/lib/python3.11/site-packages (from tmu==0.8.3) (4.66.1)\n",
      "Requirement already satisfied: requests in /opt/conda/lib/python3.11/site-packages (from tmu==0.8.3) (2.31.0)\n",
      "Collecting xxhash (from tmu==0.8.3)\n",
      "  Using cached xxhash-3.5.0-cp311-cp311-manylinux_2_17_x86_64.manylinux2014_x86_64.whl.metadata (12 kB)\n",
      "Requirement already satisfied: pycparser in /opt/conda/lib/python3.11/site-packages (from cffi>=1.15.0->tmu==0.8.3) (2.21)\n",
      "Requirement already satisfied: python-dateutil>=2.8.2 in /opt/conda/lib/python3.11/site-packages (from pandas->tmu==0.8.3) (2.8.2)\n",
      "Requirement already satisfied: pytz>=2020.1 in /opt/conda/lib/python3.11/site-packages (from pandas->tmu==0.8.3) (2023.3.post1)\n",
      "Requirement already satisfied: tzdata>=2022.1 in /opt/conda/lib/python3.11/site-packages (from pandas->tmu==0.8.3) (2023.3)\n",
      "Requirement already satisfied: charset-normalizer<4,>=2 in /opt/conda/lib/python3.11/site-packages (from requests->tmu==0.8.3) (3.3.2)\n",
      "Requirement already satisfied: idna<4,>=2.5 in /opt/conda/lib/python3.11/site-packages (from requests->tmu==0.8.3) (3.6)\n",
      "Requirement already satisfied: urllib3<3,>=1.21.1 in /opt/conda/lib/python3.11/site-packages (from requests->tmu==0.8.3) (2.1.0)\n",
      "Requirement already satisfied: certifi>=2017.4.17 in /opt/conda/lib/python3.11/site-packages (from requests->tmu==0.8.3) (2023.11.17)\n",
      "Requirement already satisfied: scipy>=1.5.0 in /opt/conda/lib/python3.11/site-packages (from scikit-learn->tmu==0.8.3) (1.11.4)\n",
      "Requirement already satisfied: joblib>=1.1.1 in /opt/conda/lib/python3.11/site-packages (from scikit-learn->tmu==0.8.3) (1.3.2)\n",
      "Requirement already satisfied: threadpoolctl>=2.0.0 in /opt/conda/lib/python3.11/site-packages (from scikit-learn->tmu==0.8.3) (3.2.0)\n",
      "Requirement already satisfied: six>=1.5 in /opt/conda/lib/python3.11/site-packages (from python-dateutil>=2.8.2->pandas->tmu==0.8.3) (1.16.0)\n",
      "Using cached xxhash-3.5.0-cp311-cp311-manylinux_2_17_x86_64.manylinux2014_x86_64.whl (194 kB)\n",
      "Building wheels for collected packages: tmu\n",
      "  Building wheel for tmu (pyproject.toml) ... \u001b[?25ldone\n",
      "\u001b[?25h  Created wheel for tmu: filename=tmu-0.8.3-cp311-cp311-linux_x86_64.whl size=235660 sha256=c08df6a268823c044e265d0cdba6453462f4333589584b6bfaa053056f1ac483\n",
      "  Stored in directory: /tmp/pip-ephem-wheel-cache-w20yi8d9/wheels/06/5c/00/d7505e35699e1e072d72b867af5ddd8d0882f3680213f34745\n",
      "Successfully built tmu\n",
      "Installing collected packages: xxhash, tmu\n",
      "Successfully installed tmu-0.8.3 xxhash-3.5.0\n"
     ]
    }
   ],
   "source": [
    "!pip install numpy keras tensorflow scikit-learn scipy tqdm pillow opencv-python optuna\n",
    "!pip install git+https://github.com/cair/tmu.git"
   ]
  },
  {
   "cell_type": "code",
   "execution_count": 26,
   "id": "42850ff6-8c95-4086-b624-703906f50b68",
   "metadata": {},
   "outputs": [
    {
     "name": "stdout",
     "output_type": "stream",
     "text": [
      "Collecting git+https://github.com/cair/GraphTsetlinMachine.git\n",
      "  Cloning https://github.com/cair/GraphTsetlinMachine.git to /tmp/pip-req-build-dsoyzr8d\n",
      "  Running command git clone --filter=blob:none --quiet https://github.com/cair/GraphTsetlinMachine.git /tmp/pip-req-build-dsoyzr8d\n",
      "  Resolved https://github.com/cair/GraphTsetlinMachine.git to commit 3b7e02eb80d30622f6a1036d52dbff2722a60c7e\n",
      "  Preparing metadata (setup.py) ... \u001b[?25ldone\n",
      "\u001b[?25hBuilding wheels for collected packages: GraphTsetlinMachine\n",
      "  Building wheel for GraphTsetlinMachine (setup.py) ... \u001b[?25ldone\n",
      "\u001b[?25h  Created wheel for GraphTsetlinMachine: filename=GraphTsetlinMachine-0.2.0-py3-none-any.whl size=13278 sha256=70d60945b8d9b483dec091fc411b5db7515941f892a5cd2217de18bda83f10bb\n",
      "  Stored in directory: /tmp/pip-ephem-wheel-cache-2m5f7jlz/wheels/34/cc/e5/cd009a2fbcaf890e64951f3f7dc9df0cdece99f8c85b781178\n",
      "Successfully built GraphTsetlinMachine\n",
      "Installing collected packages: GraphTsetlinMachine\n",
      "Successfully installed GraphTsetlinMachine-0.2.0\n"
     ]
    }
   ],
   "source": [
    "!pip install git+https://github.com/cair/GraphTsetlinMachine.git"
   ]
  },
  {
   "cell_type": "code",
   "execution_count": 27,
   "id": "cc009aaf-94c2-438f-a6a9-1b5ae839347c",
   "metadata": {},
   "outputs": [
    {
     "data": {
      "text/plain": [
       "(10000000, 3)"
      ]
     },
     "execution_count": 27,
     "metadata": {},
     "output_type": "execute_result"
    }
   ],
   "source": [
    "import pandas as pd\n",
    "import networkx as nx\n",
    "import numpy as np\n",
    "from sklearn.model_selection import train_test_split\n",
    "import matplotlib\n",
    "\n",
    "# Load the CSV file generated by C program\n",
    "df = pd.read_csv('hex_game_results_13.csv')\n",
    "df.shape"
   ]
  },
  {
   "cell_type": "code",
   "execution_count": 12,
   "id": "72ade1e5-52e7-4e68-9118-77c8a5e0ed16",
   "metadata": {},
   "outputs": [
    {
     "name": "stdout",
     "output_type": "stream",
     "text": [
      "Processed Moves:\n",
      "0    [41, 155, 167, 106, 29, 144, 68, 36, 75, 163, ...\n",
      "1                                            [45, 117]\n",
      "2    [126, 62, 22, 135, 111, 11, 128, 87, 109, 67, ...\n",
      "3    [142, 123, 93, 121, 18, 72, 145, 97, 78, 148, ...\n",
      "4                                         [140, 45, 0]\n",
      "Name: Moves, dtype: object\n",
      "Final Board State for the first game:\n",
      "[[0 0 1 0 0 0 0 2 0 0 0 0 0]\n",
      " [0 0 0 0 0 0 0 0 2 0 0 0 0]\n",
      " [0 0 0 1 0 0 0 0 0 0 2 0 0]\n",
      " [0 0 1 0 0 0 1 0 0 0 0 0 0]\n",
      " [0 0 0 0 0 0 1 0 0 0 0 0 0]\n",
      " [0 0 0 1 0 0 0 0 0 0 1 0 0]\n",
      " [0 0 1 0 0 0 0 0 2 0 1 0 0]\n",
      " [0 0 0 0 0 0 0 0 0 2 0 0 0]\n",
      " [0 0 2 0 0 0 0 0 0 0 0 0 0]\n",
      " [0 0 0 0 0 0 0 0 0 0 0 0 0]\n",
      " [0 0 0 0 0 2 0 0 0 0 1 0 0]\n",
      " [0 2 0 1 0 0 0 0 0 0 0 0 2]\n",
      " [0 0 0 0 0 2 0 2 2 0 0 1 1]]\n",
      "Training set size: 8000\n",
      "Testing set size: 2000\n"
     ]
    }
   ],
   "source": [
    "# Limit to 10,000 rows(just for more speed processing)\n",
    "df = df.iloc[:10000]\n",
    "\n",
    "# Convert 'Moves' column to lists of integers\n",
    "df['Moves'] = df['Moves'].apply(lambda x: list(map(int, x.split())))\n",
    "\n",
    "# Check the processed moves\n",
    "print(\"Processed Moves:\")\n",
    "print(df['Moves'].head())\n",
    "\n",
    "# Assuming board size of 13x13 for the Hex game\n",
    "BOARD_SIZE = 13\n",
    "\n",
    "# Function to convert moves into a final board state\n",
    "def get_final_board_state(moves, board_size):\n",
    "    board = np.zeros((board_size, board_size), dtype=int)\n",
    "    for i, move in enumerate(moves):\n",
    "        player = 1 if i % 2 == 0 else 2\n",
    "        row, col = move // board_size, move % board_size\n",
    "        board[row, col] = player\n",
    "    return board\n",
    "\n",
    "# Add the final board state to the DataFrame\n",
    "df['FinalBoard'] = df['Moves'].apply(lambda moves: get_final_board_state(moves, BOARD_SIZE))\n",
    "\n",
    "# Check the final board states\n",
    "print(\"Final Board State for the first game:\")\n",
    "print(df['FinalBoard'].iloc[0])\n",
    "\n",
    "# Split the data into training and testing sets\n",
    "# We have a 'Winner' column in the dataset for labels\n",
    "X_train, X_test, Y_train, Y_test = train_test_split(df['FinalBoard'], df['Winner'], test_size=0.2, random_state=42)\n",
    "\n",
    "# Check the split data\n",
    "print(f\"Training set size: {len(X_train)}\")\n",
    "print(f\"Testing set size: {len(X_test)}\")"
   ]
  },
  {
   "cell_type": "code",
   "execution_count": 13,
   "id": "62178ffe-98e6-4884-bff9-2df1bd2cfd6a",
   "metadata": {},
   "outputs": [
    {
     "data": {
      "text/plain": [
       "(10000, 4)"
      ]
     },
     "execution_count": 13,
     "metadata": {},
     "output_type": "execute_result"
    }
   ],
   "source": [
    "df.shape"
   ]
  },
  {
   "cell_type": "code",
   "execution_count": 14,
   "id": "c56a5e65-0297-4dfa-b2d3-6779f9e5463e",
   "metadata": {},
   "outputs": [
    {
     "data": {
      "text/html": [
       "<div>\n",
       "<style scoped>\n",
       "    .dataframe tbody tr th:only-of-type {\n",
       "        vertical-align: middle;\n",
       "    }\n",
       "\n",
       "    .dataframe tbody tr th {\n",
       "        vertical-align: top;\n",
       "    }\n",
       "\n",
       "    .dataframe thead th {\n",
       "        text-align: right;\n",
       "    }\n",
       "</style>\n",
       "<table border=\"1\" class=\"dataframe\">\n",
       "  <thead>\n",
       "    <tr style=\"text-align: right;\">\n",
       "      <th></th>\n",
       "      <th>Game ID</th>\n",
       "      <th>Winner</th>\n",
       "      <th>Moves</th>\n",
       "      <th>FinalBoard</th>\n",
       "    </tr>\n",
       "  </thead>\n",
       "  <tbody>\n",
       "    <tr>\n",
       "      <th>0</th>\n",
       "      <td>0</td>\n",
       "      <td>0</td>\n",
       "      <td>[41, 155, 167, 106, 29, 144, 68, 36, 75, 163, ...</td>\n",
       "      <td>[[0, 0, 1, 0, 0, 0, 0, 2, 0, 0, 0, 0, 0], [0, ...</td>\n",
       "    </tr>\n",
       "    <tr>\n",
       "      <th>1</th>\n",
       "      <td>1</td>\n",
       "      <td>1</td>\n",
       "      <td>[45, 117]</td>\n",
       "      <td>[[0, 0, 0, 0, 0, 0, 0, 0, 0, 0, 0, 0, 0], [0, ...</td>\n",
       "    </tr>\n",
       "    <tr>\n",
       "      <th>2</th>\n",
       "      <td>2</td>\n",
       "      <td>0</td>\n",
       "      <td>[126, 62, 22, 135, 111, 11, 128, 87, 109, 67, ...</td>\n",
       "      <td>[[0, 0, 0, 1, 0, 0, 0, 0, 0, 0, 0, 2, 0], [0, ...</td>\n",
       "    </tr>\n",
       "    <tr>\n",
       "      <th>3</th>\n",
       "      <td>3</td>\n",
       "      <td>0</td>\n",
       "      <td>[142, 123, 93, 121, 18, 72, 145, 97, 78, 148, ...</td>\n",
       "      <td>[[0, 0, 0, 0, 0, 0, 1, 0, 0, 0, 0, 0, 0], [0, ...</td>\n",
       "    </tr>\n",
       "    <tr>\n",
       "      <th>4</th>\n",
       "      <td>4</td>\n",
       "      <td>0</td>\n",
       "      <td>[140, 45, 0]</td>\n",
       "      <td>[[1, 0, 0, 0, 0, 0, 0, 0, 0, 0, 0, 0, 0], [0, ...</td>\n",
       "    </tr>\n",
       "  </tbody>\n",
       "</table>\n",
       "</div>"
      ],
      "text/plain": [
       "   Game ID  Winner                                              Moves  \\\n",
       "0        0       0  [41, 155, 167, 106, 29, 144, 68, 36, 75, 163, ...   \n",
       "1        1       1                                          [45, 117]   \n",
       "2        2       0  [126, 62, 22, 135, 111, 11, 128, 87, 109, 67, ...   \n",
       "3        3       0  [142, 123, 93, 121, 18, 72, 145, 97, 78, 148, ...   \n",
       "4        4       0                                       [140, 45, 0]   \n",
       "\n",
       "                                          FinalBoard  \n",
       "0  [[0, 0, 1, 0, 0, 0, 0, 2, 0, 0, 0, 0, 0], [0, ...  \n",
       "1  [[0, 0, 0, 0, 0, 0, 0, 0, 0, 0, 0, 0, 0], [0, ...  \n",
       "2  [[0, 0, 0, 1, 0, 0, 0, 0, 0, 0, 0, 2, 0], [0, ...  \n",
       "3  [[0, 0, 0, 0, 0, 0, 1, 0, 0, 0, 0, 0, 0], [0, ...  \n",
       "4  [[1, 0, 0, 0, 0, 0, 0, 0, 0, 0, 0, 0, 0], [0, ...  "
      ]
     },
     "execution_count": 14,
     "metadata": {},
     "output_type": "execute_result"
    }
   ],
   "source": [
    "df.head()"
   ]
  },
  {
   "cell_type": "code",
   "execution_count": 15,
   "id": "b0e4cef7-5255-4b62-9af9-c83342166c8e",
   "metadata": {},
   "outputs": [
    {
     "data": {
      "text/plain": [
       "array([[0, 0, 0, 1, 0, 0, 0, 2, 0, 0, 0, 0, 0],\n",
       "       [0, 2, 0, 0, 0, 0, 0, 0, 0, 0, 0, 0, 0],\n",
       "       [0, 0, 0, 0, 0, 0, 0, 0, 0, 0, 0, 0, 0],\n",
       "       [1, 0, 0, 0, 0, 0, 0, 0, 0, 0, 0, 0, 0],\n",
       "       [0, 0, 0, 2, 0, 0, 2, 2, 0, 0, 0, 0, 0],\n",
       "       [0, 0, 0, 0, 0, 0, 2, 0, 1, 2, 0, 0, 0],\n",
       "       [0, 0, 0, 0, 0, 0, 1, 0, 0, 0, 0, 0, 0],\n",
       "       [0, 0, 0, 0, 0, 1, 0, 0, 0, 0, 0, 0, 0],\n",
       "       [0, 0, 0, 0, 0, 0, 0, 0, 0, 0, 0, 0, 0],\n",
       "       [0, 0, 0, 1, 0, 0, 0, 0, 0, 0, 0, 0, 0],\n",
       "       [0, 0, 0, 1, 1, 0, 0, 1, 0, 0, 1, 0, 0],\n",
       "       [0, 0, 0, 0, 2, 0, 0, 0, 0, 0, 1, 0, 0],\n",
       "       [0, 0, 2, 0, 2, 0, 0, 0, 0, 0, 0, 0, 0]])"
      ]
     },
     "execution_count": 15,
     "metadata": {},
     "output_type": "execute_result"
    }
   ],
   "source": [
    "X_train.iloc[0]"
   ]
  },
  {
   "cell_type": "code",
   "execution_count": 16,
   "id": "5a63f31e-16c8-44c3-ae4c-406c9fb4f7ab",
   "metadata": {},
   "outputs": [],
   "source": [
    "# Convert X_train and X_test from Series to lists of NumPy arrays\n",
    "X_train_list = X_train.tolist()\n",
    "X_test_list = X_test.tolist()"
   ]
  },
  {
   "cell_type": "code",
   "execution_count": 20,
   "id": "f408676f-60ba-45cc-aa0e-f444da963665",
   "metadata": {},
   "outputs": [],
   "source": [
    "#X_train_list"
   ]
