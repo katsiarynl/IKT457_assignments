{
 "cells": [
  {
   "cell_type": "markdown",
   "id": "2f0338e3-d804-4f75-9e31-735ae3f8f94c",
   "metadata": {},
   "source": [
    "13) this version is 7*7 game with positional property, values, centered\\edged for each node. The hyperparameters are 20000,1000,0.3 for clauses,T and S respectively.----------Max Acuraccy is 89% on test data."
   ]
  },
  {
   "cell_type": "code",
   "execution_count": 1,
   "id": "f94c8123-8e78-4a27-b796-10e8029ff8b8",
   "metadata": {},
   "outputs": [],
   "source": [
    "\n",
    "from GraphTsetlinMachine.graphs import Graphs\n",
    "from GraphTsetlinMachine.tm import MultiClassGraphTsetlinMachine\n",
    "from time import time\n",
    "import numpy as np\n",
    "import pandas as pd\n",
    "from sklearn.model_selection import train_test_split\n"
   ]
  },
  {
   "cell_type": "code",
   "execution_count": 2,
   "id": "0275a050-6b25-4ed9-8312-097082bef4f8",
   "metadata": {},
   "outputs": [
    {
     "name": "stdout",
     "output_type": "stream",
     "text": [
      "/home/ladans/Learning systems\n",
      "/home/ladans/Learning systems/Hex_game_result_13.csv\n"
     ]
    }
   ],
   "source": [
    "import os\n",
    "current_directory = os.getcwd()\n",
    "print(current_directory)\n",
    "dir_base = os.path.join(current_directory,'Hex_game_result_7_kaggle.csv')\n",
    "print(dir_base)\n",
    "#des_base = os.path.join(dir_base,'3_3_small.csv')\n",
    "#print(des_base)"
   ]
  },
  {
   "cell_type": "code",
   "execution_count": 3,
   "id": "11604912-c447-4880-8911-a26eb6256445",
   "metadata": {},
   "outputs": [
    {
     "name": "stdout",
     "output_type": "stream",
     "text": [
      "done\n"
     ]
    }
   ],
   "source": [
    "df = pd.read_csv('Hex_game_result_13.csv')\n",
    "df = df.iloc[:10000]\n",
    "print('done')"
   ]
  },
  {
   "cell_type": "code",
   "execution_count": 4,
   "id": "364d3472-a562-46a5-8dfe-93010669d73e",
   "metadata": {},
   "outputs": [
    {
     "data": {
      "text/plain": [
       "numpy.ndarray"
      ]
     },
     "execution_count": 4,
     "metadata": {},
     "output_type": "execute_result"
    }
   ],
   "source": [
    "input_matrix = df.iloc[:, :-1].values.reshape(-1, 7, 7)  # Reshape to (num_games, 7, 7)\n",
    "input_matrix = np.where(input_matrix == -1, 2, input_matrix)  # Replace -1 with 2\n",
    "\n",
    "df['winner'] = df.iloc[:, -1]  # Last column as the winner\n",
    "# Replace -1 with 0 in the 'winner' column if necessary\n",
    "df['winner'] = df['winner'].replace(-1, 0)\n",
    "type(input_matrix[0])"
   ]
  },
  {
   "cell_type": "code",
   "execution_count": 5,
   "id": "37c3a6eb-337d-418b-b6b1-2917e44427c1",
   "metadata": {},
   "outputs": [
    {
     "data": {
      "text/plain": [
       "0       1\n",
       "1       1\n",
       "2       0\n",
       "3       0\n",
       "4       1\n",
       "       ..\n",
       "9995    0\n",
       "9996    1\n",
       "9997    0\n",
       "9998    1\n",
       "9999    0\n",
       "Name: winner, Length: 10000, dtype: int64"
      ]
     },
     "execution_count": 5,
     "metadata": {},
     "output_type": "execute_result"
    }
   ],
   "source": [
    "df['winner']"
   ]
  },
  {
   "cell_type": "code",
   "execution_count": 6,
   "id": "88cbcf17-8e1e-4612-b1d4-cd0a72d0cdfa",
   "metadata": {},
   "outputs": [
    {
     "data": {
      "text/plain": [
       "10000"
      ]
     },
     "execution_count": 6,
     "metadata": {},
     "output_type": "execute_result"
    }
   ],
   "source": [
    "df.shape[0]"
   ]
  },
  {
   "cell_type": "code",
   "execution_count": 7,
   "id": "3322699c-87ee-4c5a-9c7d-e12564d73e6e",
   "metadata": {},
   "outputs": [
    {
     "name": "stdout",
     "output_type": "stream",
     "text": [
      "X_train shape: (9000, 7, 7)\n",
      "X_test shape: (1000, 7, 7)\n",
      "<class 'numpy.ndarray'>\n",
      "<class 'numpy.ndarray'>\n",
      "<class 'numpy.ndarray'>\n"
     ]
    }
   ],
   "source": [
    "# Split into training and test sets\n",
    "subset_size = int(df.shape[0] * 0.9)\n",
    "X_train = input_matrix[:subset_size]\n",
    "X_test = input_matrix[subset_size:]\n",
    "Y_train = df['winner'].iloc[:subset_size].values\n",
    "Y_test = df['winner'].iloc[subset_size:].values\n",
    "\n",
    "print(f\"X_train shape: {X_train.shape}\")\n",
    "print(f\"X_test shape: {X_test.shape}\")\n",
    "print(type(Y_train))\n",
    "print(type(X_train))\n",
    "print(type(Y_test))"
   ]
  },
  {
   "cell_type": "code",
   "execution_count": 8,
   "id": "d3ff4e9a-0897-4b50-8008-c8516f9cc442",
   "metadata": {},
   "outputs": [
    {
     "data": {
      "text/plain": [
       "array([1, 1, 0, ..., 0, 0, 1])"
      ]
     },
     "execution_count": 8,
     "metadata": {},
     "output_type": "execute_result"
    }
   ],
   "source": [
    "Y_train"
   ]
  },
  {
   "cell_type": "code",
   "execution_count": 9,
   "id": "d50c536a-43fa-495a-80c7-34b8b82b188e",
   "metadata": {},
   "outputs": [
    {
     "name": "stdout",
     "output_type": "stream",
     "text": [
      "[2, 4, 4, 4, 4, 4, 3, 4, 6, 6, 6, 6, 6, 4, 4, 6, 6, 6, 6, 6, 4, 4, 6, 6, 6, 6, 6, 4, 4, 6, 6, 6, 6, 6, 4, 4, 6, 6, 6, 6, 6, 4, 3, 4, 4, 4, 4, 4, 2]\n"
     ]
    },
    {
     "data": {
      "text/plain": [
       "240"
      ]
     },
     "execution_count": 9,
     "metadata": {},
     "output_type": "execute_result"
    }
   ],
   "source": [
    "# Initialize a dictionary to store the number of edges for each node\n",
    "node_edges = {}\n",
    "dim=7\n",
    "for row in range(dim):\n",
    "    for col in range(dim):\n",
    "        node_id = row * dim + col  # Unique node ID for each hexagon\n",
    "\n",
    "        # Dynamically calculate the number of neighbors for each node\n",
    "        number_of_neighbors = 0\n",
    "        if row > 0: number_of_neighbors += 1  # Above\n",
    "        if row < dim - 1: number_of_neighbors += 1  # Below\n",
    "        if col > 0: number_of_neighbors += 1  # Left\n",
    "        if col < dim - 1: number_of_neighbors += 1  # Right\n",
    "        if row > 0 and col < dim - 1: number_of_neighbors += 1  # AboveRight\n",
    "        if row < dim - 1 and col > 0: number_of_neighbors += 1  # BelowLeft\n",
    "        \n",
    "        # Store the number of edges for this node\n",
    "        node_edges[node_id] = number_of_neighbors\n",
    "\n",
    "# Extract just the values (number of edges) into a list\n",
    "n_edges_list = list(node_edges.values())\n",
    "\n",
    "# Output the list of edge values (optional)\n",
    "print(n_edges_list)\n",
    "sum_elements = sum(n_edges_list)\n",
    "sum_elements"
   ]
  },
  {
   "cell_type": "code",
   "execution_count": 10,
   "id": "aa51a9d3-801f-41d3-bcc9-028eeb32b7b7",
   "metadata": {},
   "outputs": [
    {
     "name": "stdout",
     "output_type": "stream",
     "text": [
      "120\n"
     ]
    }
   ],
   "source": [
    "#this part is responsible for generating edges (connections) between adjacent cells in a 3x3 Hex grid. Rows, columns and Diagonals\n",
    "import itertools\n",
    "dim=7\n",
    "# Function to generate edges for a 3x3 grid\n",
    "def generate_edges():\n",
    "    edges = []\n",
    "\n",
    "    # Row connections (horizontal)\n",
    "    for row in range(dim):\n",
    "        for col in range(dim-1):  # 2 because we connect (col, col+1)\n",
    "            edges.append(((row, col), (row, col+1)))\n",
    "    \n",
    "    # Column connections (vertical)\n",
    "    for col in range(dim):\n",
    "        for row in range(dim-1):  # 2 because we connect (row, row+1)\n",
    "            edges.append(((row, col), (row+1, col)))\n",
    "\n",
    "    # Diagonal connections (from bottom-left to top-right)\n",
    "    for row in range(dim-1):\n",
    "        for col in range(dim-1):  # Diagonals will only connect within the bounds\n",
    "            edges.append(((row, col+1), (row+1, col)))\n",
    "\n",
    "    return edges\n",
    "\n",
    "# Generate edges\n",
    "edges = generate_edges()\n",
    "\n",
    "edges\n",
    "print(len(edges))\n"
   ]
  },
  {
   "cell_type": "markdown",
   "id": "3d299657-0a61-4cf4-b9da-6e994a27f172",
   "metadata": {},
   "source": [
    "#########################################################################################\n",
    "##############################################################################################"
   ]
  },
  {
   "cell_type": "code",
   "execution_count": 11,
   "id": "475fb774-cac6-42be-b78a-66bd163fd229",
   "metadata": {},
   "outputs": [],
   "source": [
    "import argparse\n",
    "import sys\n",
    "\n",
    "def default_args(**kwargs):\n",
    "    parser = argparse.ArgumentParser()\n",
    "    parser.add_argument(\"--epochs\", default=100, type=int)\n",
    "    parser.add_argument(\"--number-of-clauses\", default=20000, type=int)\n",
    "    parser.add_argument(\"--T\", default=1000, type=int)\n",
    "    parser.add_argument(\"--s\", default=0.3, type=float)\n",
    "    parser.add_argument(\"--depth\", default=3, type=int)\n",
    "    parser.add_argument(\"--hypervector-size\", default=512, type=int)\n",
    "    parser.add_argument(\"--hypervector-bits\", default=2, type=int)\n",
    "    parser.add_argument(\"--message-size\", default=512, type=int)\n",
    "    parser.add_argument(\"--message-bits\", default=2, type=int)\n",
    "    parser.add_argument('--double-hashing', dest='double_hashing', default=False, action='store_true')\n",
    "    parser.add_argument(\"--max-included-literals\", default=16, type=int)\n",
    "\n",
    "    # Add this line to avoid Jupyter arguments causing an error\n",
    "    args = parser.parse_args(args=[])  # Ignore any command line arguments\n",
    "\n",
    "    for key, value in kwargs.items():\n",
    "        if key in args.__dict__:\n",
    "            setattr(args, key, value)\n",
    "    return args\n",
    "args = default_args()"
   ]
  },
  {
   "cell_type": "code",
   "execution_count": 12,
   "id": "f2457a92-2b9b-41a2-ac8e-693f662456b4",
   "metadata": {},
   "outputs": [
    {
     "data": {
      "text/plain": [
       "['Red',\n",
       " 'Blue',\n",
       " 'White',\n",
       " 'Row_0',\n",
       " 'Row_1',\n",
       " 'Row_2',\n",
       " 'Row_3',\n",
       " 'Row_4',\n",
       " 'Row_5',\n",
       " 'Row_6',\n",
       " 'Col_0',\n",
       " 'Col_1',\n",
       " 'Col_2',\n",
       " 'Col_3',\n",
       " 'Col_4',\n",
       " 'Col_5',\n",
       " 'Col_6',\n",
       " 'CenterAligned',\n",
       " 'EdgeAligned']"
      ]
     },
     "execution_count": 12,
     "metadata": {},
     "output_type": "execute_result"
    }
   ],
   "source": [
    "from GraphTsetlinMachine.graphs import Graphs\n",
    "import numpy as np\n",
    "from GraphTsetlinMachine.tm import MultiClassGraphTsetlinMachine\n",
    "from time import time\n",
    "\n",
    "\n",
    "dim = 7\n",
    "\n",
    "number_of_nodes = dim * dim\n",
    "\n",
    "\n",
    "symbol_names = ['Red','Blue','White']\n",
    "\n",
    "#for dist in range(dim // 2 + 1):\n",
    "    #symbol_names.append(f'DistToWall_{dist}')\n",
    "\n",
    "# Adjacency to walls\n",
    "#symbol_names.extend(['TouchingRedWall', 'TouchingBlueWall'])\n",
    "\n",
    "# Row and column information\n",
    "for row in range(dim):\n",
    "    symbol_names.append(f'Row_{row}')\n",
    "for col in range(dim):\n",
    "    symbol_names.append(f'Col_{col}')\n",
    "\n",
    "\n",
    "symbol_names.extend(['CenterAligned', 'EdgeAligned'])\n",
    "\n",
    "symbol_names"
   ]
  },
  {
   "cell_type": "code",
   "execution_count": 13,
   "id": "b47b4ce5-422c-4cef-a5b5-88a82bdc353e",
   "metadata": {},
   "outputs": [
    {
     "name": "stdout",
     "output_type": "stream",
     "text": [
      "end\n"
     ]
    }
   ],
   "source": [
    "# Initialize the graph structure for training\n",
    "graphs_train = Graphs(\n",
    "    number_of_graphs=subset_size,\n",
    "    symbols=symbol_names,\n",
    "    hypervector_size=args.hypervector_size,\n",
    "    hypervector_bits=args.hypervector_bits,\n",
    "    double_hashing=args.double_hashing,\n",
    ")\n",
    "# Prepare nodes\n",
    "for graph_id in range(X_train.shape[0]):\n",
    "    graphs_train.set_number_of_graph_nodes(\n",
    "        graph_id=graph_id,\n",
    "        number_of_graph_nodes=dim**2,\n",
    "    )\n",
    "graphs_train.prepare_node_configuration()\n",
    "\n",
    "# Prepare edges\n",
    "for graph_id in range(X_train.shape[0]):\n",
    "    for k in range(dim**2):\n",
    "        graphs_train.add_graph_node(graph_id, k, n_edges_list[k])\n",
    "graphs_train.prepare_edge_configuration()\n",
    "\n",
    "\n",
    "# Add nodes and their properties for each graph\n",
    "dim = 7  # For a 3x3 grid\n",
    "for graph_id in range(X_train.shape[0]):\n",
    "    for k in range(dim * dim):  # 9 nodes for the 3x3 grid\n",
    "        # Get the value of the current cell in the board\n",
    "        cell_value = X_train[graph_id].flatten()[k]  # Flatten to 1D array\n",
    "\n",
    "        # Convert node index to (row, col) coordinates\n",
    "        row, col = divmod(k, dim)\n",
    "        \n",
    "        # Feature 1: Assign player color\n",
    "        if cell_value == 1:  # Player 1\n",
    "            graphs_train.add_graph_node_property(graph_id, k, \"Blue\")\n",
    "        elif cell_value == 2:  # Player 2\n",
    "            graphs_train.add_graph_node_property(graph_id, k, \"Red\")\n",
    "        else:  # Empty cell\n",
    "            graphs_train.add_graph_node_property(graph_id, k, \"White\")\n",
    "\n",
    "        # Feature 2: Distance to walls\n",
    "        #distance_to_wall = min(row, col, dim - row - 1, dim - col - 1)\n",
    "        #graphs_train.add_graph_node_property(graph_id, k, f'DistToWall_{distance_to_wall}')\n",
    "\n",
    "        # Feature 3: Adjacency to walls\n",
    "        #if row == 0 or row == dim - 1:\n",
    "            #graphs_train.add_graph_node_property(graph_id, k, \"TouchingRedWall\")\n",
    "        #if col == 0 or col == dim - 1:\n",
    "            #graphs_train.add_graph_node_property(graph_id, k, \"TouchingBlueWall\")\n",
    "        # Feature 6: Center or Border Alignment\n",
    "        center_dist = abs(row - dim // 2) + abs(col - dim // 2)\n",
    "        alignment = \"CenterAligned\" if center_dist <= dim // 2 else \"EdgeAligned\"\n",
    "        graphs_train.add_graph_node_property(graph_id, k, alignment)\n",
    "\n",
    "        # Feature 4: Row and column information\n",
    "        graphs_train.add_graph_node_property(graph_id, k, f'Row_{row}')\n",
    "        graphs_train.add_graph_node_property(graph_id, k, f'Col_{col}')\n",
    "\n",
    "\n",
    "# Prepare edge configuration for the training data\n",
    "graphs_train.prepare_edge_configuration()\n",
    "\n",
    "# Add edge connections based on the predefined edges\n",
    "for graph_id in range(X_train.shape[0]):\n",
    "    for edge in edges:\n",
    "        node_id = edge[0][0] * dim + edge[0][1]  # Convert (row, col) to node ID\n",
    "        destination_node_id = edge[1][0] * dim + edge[1][1]\n",
    "\n",
    "        # Add bidirectional edges\n",
    "        graphs_train.add_graph_node_edge(graph_id, node_id, destination_node_id, edge_type_name=0)\n",
    "        graphs_train.add_graph_node_edge(graph_id, destination_node_id, node_id, edge_type_name=0)\n",
    "\n",
    "# Encode the graph\n",
    "graphs_train.encode()\n",
    "print('end')"
   ]
  },
  {
   "cell_type": "code",
   "execution_count": 14,
   "id": "4cdd9ebd-2707-4c2e-9e55-1ef6a3272c63",
   "metadata": {},
   "outputs": [
    {
     "name": "stdout",
     "output_type": "stream",
     "text": [
      "end\n"
     ]
    }
   ],
   "source": [
    "\n",
    "# Initialize the graph structure for test data\n",
    "graphs_test = Graphs(X_test.shape[0], init_with=graphs_train)\n",
    "\n",
    "\n",
    "# Prepare nodes\n",
    "for graph_id in range(X_test.shape[0]):\n",
    "    graphs_test.set_number_of_graph_nodes(\n",
    "        graph_id=graph_id,\n",
    "        number_of_graph_nodes=dim**2,\n",
    "    )\n",
    "graphs_test.prepare_node_configuration()\n",
    "\n",
    "# Prepare edges\n",
    "for graph_id in range(X_test.shape[0]):\n",
    "    for k in range(dim**2):\n",
    "        graphs_test.add_graph_node(graph_id, k, n_edges_list[k])\n",
    "graphs_test.prepare_edge_configuration()\n",
    "\n",
    "\n",
    "# Add nodes and their properties for each graph\n",
    "dim = 7  # For a 3x3 grid\n",
    "for graph_id in range(X_test.shape[0]):\n",
    "    for k in range(dim * dim):  # 9 nodes for the 3x3 grid\n",
    "        # Get the value of the current cell in the board\n",
    "        cell_value = X_test[graph_id].flatten()[k]  # Flatten to 1D array\n",
    "\n",
    "        # Convert node index to (row, col) coordinates\n",
    "        row, col = divmod(k, dim)\n",
    "        \n",
    "        # Feature 1: Assign player color\n",
    "        if cell_value == 1:  # Player 1\n",
    "            graphs_test.add_graph_node_property(graph_id, k, \"Blue\")\n",
    "        elif cell_value == 2:  # Player 2\n",
    "            graphs_test.add_graph_node_property(graph_id, k, \"Red\")\n",
    "        else:  # Empty cell\n",
    "            graphs_test.add_graph_node_property(graph_id, k, \"White\")\n",
    "\n",
    "        # Feature 2: Distance to walls\n",
    "        #distance_to_wall = min(row, col, dim - row - 1, dim - col - 1)\n",
    "        #graphs_test.add_graph_node_property(graph_id, k, f'DistToWall_{distance_to_wall}')\n",
    "\n",
    "        # Feature 3: Adjacency to walls\n",
    "        #if row == 0 or row == dim - 1:\n",
    "            #graphs_test.add_graph_node_property(graph_id, k, \"TouchingRedWall\")\n",
    "        #if col == 0 or col == dim - 1:\n",
    "            #graphs_test.add_graph_node_property(graph_id, k, \"TouchingBlueWall\")\n",
    "\n",
    "        # Feature 6: Center or Border Alignment\n",
    "        center_dist = abs(row - dim // 2) + abs(col - dim // 2)\n",
    "        alignment = \"CenterAligned\" if center_dist <= dim // 2 else \"EdgeAligned\"\n",
    "        graphs_test.add_graph_node_property(graph_id, k, alignment)\n",
    "\n",
    "\n",
    "        # Feature 4: Row and column information\n",
    "        graphs_test.add_graph_node_property(graph_id, k, f'Row_{row}')\n",
    "        graphs_test.add_graph_node_property(graph_id, k, f'Col_{col}')\n",
    "\n",
    "\n",
    "#\n",
    "\n",
    "# Add edge connections based on the predefined edges\n",
    "for graph_id in range(X_test.shape[0]):\n",
    "    for edge in edges:\n",
    "        node_id = edge[0][0] * dim + edge[0][1]  # Convert (row, col) to node ID\n",
    "        destination_node_id = edge[1][0] * dim + edge[1][1]\n",
    "\n",
    "        # Add bidirectional edges\n",
    "        graphs_test.add_graph_node_edge(graph_id, node_id, destination_node_id, edge_type_name=0)\n",
    "        graphs_test.add_graph_node_edge(graph_id, destination_node_id, node_id, edge_type_name=0)\n",
    "graphs_test.encode()\n",
    "print('end')\n"
   ]
  },
  {
   "cell_type": "code",
   "execution_count": 15,
   "id": "1e687684-60c1-4242-89b1-97356a3d429a",
   "metadata": {},
   "outputs": [
    {
     "name": "stdout",
     "output_type": "stream",
     "text": [
      "Initialization of sparse structure.\n",
      "Epoch#1 -- Accuracy train: 0.5881111111111111 -- Accuracy test: 0.609 \n",
      "Epoch#2 -- Accuracy train: 0.6122222222222222 -- Accuracy test: 0.627 \n",
      "Epoch#3 -- Accuracy train: 0.7891111111111111 -- Accuracy test: 0.764 \n",
      "Epoch#4 -- Accuracy train: 0.7991111111111111 -- Accuracy test: 0.756 \n",
      "Epoch#5 -- Accuracy train: 0.7915555555555556 -- Accuracy test: 0.774 \n",
      "Epoch#6 -- Accuracy train: 0.8177777777777778 -- Accuracy test: 0.783 \n",
      "Epoch#7 -- Accuracy train: 0.8091111111111111 -- Accuracy test: 0.788 \n",
      "Epoch#8 -- Accuracy train: 0.8114444444444444 -- Accuracy test: 0.796 \n",
      "Epoch#9 -- Accuracy train: 0.825 -- Accuracy test: 0.766 \n",
      "Epoch#10 -- Accuracy train: 0.7991111111111111 -- Accuracy test: 0.747 \n",
      "Epoch#11 -- Accuracy train: 0.8271111111111111 -- Accuracy test: 0.806 \n",
      "Epoch#12 -- Accuracy train: 0.8626666666666667 -- Accuracy test: 0.817 \n",
      "Epoch#13 -- Accuracy train: 0.8638888888888889 -- Accuracy test: 0.815 \n",
      "Epoch#14 -- Accuracy train: 0.8397777777777777 -- Accuracy test: 0.773 \n",
      "Epoch#15 -- Accuracy train: 0.7751111111111111 -- Accuracy test: 0.707 \n",
      "Epoch#16 -- Accuracy train: 0.8822222222222222 -- Accuracy test: 0.826 \n",
      "Epoch#17 -- Accuracy train: 0.6956666666666667 -- Accuracy test: 0.653 \n",
      "Epoch#18 -- Accuracy train: 0.8472222222222222 -- Accuracy test: 0.777 \n",
      "Epoch#19 -- Accuracy train: 0.8785555555555555 -- Accuracy test: 0.801 \n",
      "Epoch#20 -- Accuracy train: 0.8916666666666667 -- Accuracy test: 0.815 \n",
      "Epoch#21 -- Accuracy train: 0.8141111111111111 -- Accuracy test: 0.742 \n",
      "Epoch#22 -- Accuracy train: 0.7817777777777778 -- Accuracy test: 0.706 \n",
      "Epoch#23 -- Accuracy train: 0.8103333333333333 -- Accuracy test: 0.738 \n",
      "Epoch#24 -- Accuracy train: 0.8295555555555556 -- Accuracy test: 0.745 \n",
      "Epoch#25 -- Accuracy train: 0.7491111111111111 -- Accuracy test: 0.696 \n",
      "Epoch#26 -- Accuracy train: 0.908 -- Accuracy test: 0.831 \n",
      "Epoch#27 -- Accuracy train: 0.879 -- Accuracy test: 0.805 \n",
      "Epoch#28 -- Accuracy train: 0.88 -- Accuracy test: 0.802 \n",
      "Epoch#29 -- Accuracy train: 0.9223333333333333 -- Accuracy test: 0.852 \n",
      "Epoch#30 -- Accuracy train: 0.8961111111111111 -- Accuracy test: 0.815 \n",
      "Epoch#31 -- Accuracy train: 0.8311111111111111 -- Accuracy test: 0.755 \n",
      "Epoch#32 -- Accuracy train: 0.9048888888888889 -- Accuracy test: 0.825 \n",
      "Epoch#33 -- Accuracy train: 0.9181111111111111 -- Accuracy test: 0.841 \n",
      "Epoch#34 -- Accuracy train: 0.8082222222222222 -- Accuracy test: 0.731 \n",
      "Epoch#35 -- Accuracy train: 0.8573333333333333 -- Accuracy test: 0.782 \n",
      "Epoch#36 -- Accuracy train: 0.8711111111111111 -- Accuracy test: 0.786 \n",
      "Epoch#37 -- Accuracy train: 0.8767777777777778 -- Accuracy test: 0.79 \n",
      "Epoch#38 -- Accuracy train: 0.9167777777777778 -- Accuracy test: 0.816 \n",
      "Epoch#39 -- Accuracy train: 0.8767777777777778 -- Accuracy test: 0.795 \n",
      "Epoch#40 -- Accuracy train: 0.7843333333333333 -- Accuracy test: 0.722 \n",
      "Epoch#41 -- Accuracy train: 0.8584444444444445 -- Accuracy test: 0.776 \n",
      "Epoch#42 -- Accuracy train: 0.931 -- Accuracy test: 0.843 \n",
      "Epoch#43 -- Accuracy train: 0.937 -- Accuracy test: 0.856 \n",
      "Epoch#44 -- Accuracy train: 0.9398888888888889 -- Accuracy test: 0.864 \n",
      "Epoch#45 -- Accuracy train: 0.8991111111111111 -- Accuracy test: 0.814 \n",
      "Epoch#46 -- Accuracy train: 0.9213333333333333 -- Accuracy test: 0.864 \n",
      "Epoch#47 -- Accuracy train: 0.8828888888888888 -- Accuracy test: 0.793 \n",
      "Epoch#48 -- Accuracy train: 0.9401111111111111 -- Accuracy test: 0.849 \n",
      "Epoch#49 -- Accuracy train: 0.8492222222222222 -- Accuracy test: 0.776 \n",
      "Epoch#50 -- Accuracy train: 0.7948888888888889 -- Accuracy test: 0.731 \n",
      "Epoch#51 -- Accuracy train: 0.8932222222222223 -- Accuracy test: 0.815 \n",
      "Epoch#52 -- Accuracy train: 0.9031111111111111 -- Accuracy test: 0.857 \n",
      "Epoch#53 -- Accuracy train: 0.9568888888888889 -- Accuracy test: 0.87 \n",
      "Epoch#54 -- Accuracy train: 0.9094444444444445 -- Accuracy test: 0.814 \n",
      "Epoch#55 -- Accuracy train: 0.9287777777777778 -- Accuracy test: 0.824 \n",
      "Epoch#56 -- Accuracy train: 0.9486666666666667 -- Accuracy test: 0.85 \n",
      "Epoch#57 -- Accuracy train: 0.8582222222222222 -- Accuracy test: 0.772 \n",
      "Epoch#58 -- Accuracy train: 0.8957777777777778 -- Accuracy test: 0.796 \n",
      "Epoch#59 -- Accuracy train: 0.9626666666666667 -- Accuracy test: 0.866 \n",
      "Epoch#60 -- Accuracy train: 0.9562222222222222 -- Accuracy test: 0.87 \n",
      "Epoch#61 -- Accuracy train: 0.7594444444444445 -- Accuracy test: 0.698 \n",
      "Epoch#62 -- Accuracy train: 0.9668888888888889 -- Accuracy test: 0.875 \n",
      "Epoch#63 -- Accuracy train: 0.7715555555555556 -- Accuracy test: 0.697 \n",
      "Epoch#64 -- Accuracy train: 0.823 -- Accuracy test: 0.745 \n",
      "Epoch#65 -- Accuracy train: 0.9466666666666667 -- Accuracy test: 0.845 \n",
      "Epoch#66 -- Accuracy train: 0.883 -- Accuracy test: 0.795 \n",
      "Epoch#67 -- Accuracy train: 0.887 -- Accuracy test: 0.812 \n",
      "Epoch#68 -- Accuracy train: 0.9535555555555556 -- Accuracy test: 0.856 \n",
      "Epoch#69 -- Accuracy train: 0.9634444444444444 -- Accuracy test: 0.868 \n",
      "Epoch#70 -- Accuracy train: 0.9171111111111111 -- Accuracy test: 0.828 \n",
      "Epoch#71 -- Accuracy train: 0.9711111111111111 -- Accuracy test: 0.869 \n",
      "Epoch#72 -- Accuracy train: 0.9647777777777777 -- Accuracy test: 0.872 \n",
      "Epoch#73 -- Accuracy train: 0.7883333333333333 -- Accuracy test: 0.727 \n",
      "Epoch#74 -- Accuracy train: 0.9665555555555555 -- Accuracy test: 0.865 \n",
      "Epoch#75 -- Accuracy train: 0.8565555555555555 -- Accuracy test: 0.778 \n",
      "Epoch#76 -- Accuracy train: 0.9628888888888889 -- Accuracy test: 0.854 \n",
      "Epoch#77 -- Accuracy train: 0.967 -- Accuracy test: 0.878 \n",
      "Epoch#78 -- Accuracy train: 0.8825555555555555 -- Accuracy test: 0.797 \n",
      "Epoch#79 -- Accuracy train: 0.8842222222222222 -- Accuracy test: 0.789 \n",
      "Epoch#80 -- Accuracy train: 0.8915555555555555 -- Accuracy test: 0.803 \n",
      "Epoch#81 -- Accuracy train: 0.8926666666666667 -- Accuracy test: 0.808 \n",
      "Epoch#82 -- Accuracy train: 0.9672222222222222 -- Accuracy test: 0.863 \n",
      "Epoch#83 -- Accuracy train: 0.9687777777777777 -- Accuracy test: 0.866 \n",
      "Epoch#84 -- Accuracy train: 0.8645555555555555 -- Accuracy test: 0.78 \n",
      "Epoch#85 -- Accuracy train: 0.884 -- Accuracy test: 0.795 \n",
      "Epoch#86 -- Accuracy train: 0.9712222222222222 -- Accuracy test: 0.874 \n",
      "Epoch#87 -- Accuracy train: 0.8374444444444444 -- Accuracy test: 0.766 \n",
      "Epoch#88 -- Accuracy train: 0.9161111111111111 -- Accuracy test: 0.816 \n",
      "Epoch#89 -- Accuracy train: 0.8424444444444444 -- Accuracy test: 0.76 \n",
      "Epoch#90 -- Accuracy train: 0.9672222222222222 -- Accuracy test: 0.866 \n",
      "Epoch#91 -- Accuracy train: 0.8998888888888888 -- Accuracy test: 0.806 \n",
      "Epoch#92 -- Accuracy train: 0.8317777777777777 -- Accuracy test: 0.755 \n",
      "Epoch#93 -- Accuracy train: 0.8923333333333333 -- Accuracy test: 0.801 \n",
      "Epoch#94 -- Accuracy train: 0.9371111111111111 -- Accuracy test: 0.833 \n",
      "Epoch#95 -- Accuracy train: 0.9215555555555556 -- Accuracy test: 0.822 \n",
      "Epoch#96 -- Accuracy train: 0.9368888888888889 -- Accuracy test: 0.833 \n",
      "Epoch#97 -- Accuracy train: 0.9683333333333334 -- Accuracy test: 0.883 \n",
      "Epoch#98 -- Accuracy train: 0.9178888888888889 -- Accuracy test: 0.823 \n",
      "Epoch#99 -- Accuracy train: 0.9803333333333333 -- Accuracy test: 0.879 \n",
      "Epoch#100 -- Accuracy train: 0.979 -- Accuracy test: 0.866 \n",
      "Time: 1178.923696756363\n"
     ]
    }
   ],
   "source": [
    "# Train the Tsetlin Machine\n",
    "tm = MultiClassGraphTsetlinMachine(\n",
    "    args.number_of_clauses,\n",
    "    args.T,\n",
    "    args.s,\n",
    "    depth=args.depth,\n",
    "    message_size=args.message_size,\n",
    "    message_bits=args.message_bits,\n",
    "    max_included_literals=args.max_included_literals,\n",
    "    grid=(16*13,1,1),\n",
    "    block=(128,1,1)\n",
    ")\n",
    "\n",
    "start_training = time()\n",
    "for i in range(args.epochs):\n",
    "    tm.fit(graphs_train, Y_train, epochs=1, incremental=True)\n",
    "    print(f\"Epoch#{i+1} -- Accuracy train: {np.mean(Y_train == tm.predict(graphs_train))}\", end=' ')\n",
    "    print(f\"-- Accuracy test: {np.mean(Y_test == tm.predict(graphs_test))} \")\n",
    "stop_training = time()\n",
    "print(f\"Time: {stop_training - start_training}\")"
   ]
  },
  {
   "cell_type": "markdown",
   "id": "2ca8e40f-0711-4c4e-b356-86cd532ef571",
   "metadata": {},
   "source": [
    "#####################################################################################################\n",
    "##################################another features###################################################"
   ]
  },
  {
   "cell_type": "code",
   "execution_count": null,
   "id": "c99d66d6-8ff7-42dc-a723-f5160b6db2b6",
   "metadata": {},
   "outputs": [],
   "source": []
  }
 ],
 "metadata": {
  "kernelspec": {
   "display_name": "Python 3 (ipykernel)",
   "language": "python",
   "name": "python3"
  },
  "language_info": {
   "codemirror_mode": {
    "name": "ipython",
    "version": 3
   },
   "file_extension": ".py",
   "mimetype": "text/x-python",
   "name": "python",
   "nbconvert_exporter": "python",
   "pygments_lexer": "ipython3",
   "version": "3.11.6"
  }
 },
 "nbformat": 4,
 "nbformat_minor": 5
}
