{
 "cells": [
  {
   "cell_type": "markdown",
   "id": "092d442b-aa06-4dae-9d7f-af0ab1c3da07",
   "metadata": {},
   "source": [
    "10)Final Version for 3*3 with 100 percent accuracy. Just with values of cell"
   ]
  },
  {
   "cell_type": "code",
   "execution_count": 1,
   "id": "46ae447e",
   "metadata": {},
   "outputs": [],
   "source": [
    "\n",
    "from GraphTsetlinMachine.graphs import Graphs\n",
    "from GraphTsetlinMachine.tm import MultiClassGraphTsetlinMachine\n",
    "from time import time\n",
    "import numpy as np\n",
    "import pandas as pd\n",
    "from sklearn.model_selection import train_test_split\n"
   ]
  },
  {
   "cell_type": "code",
   "execution_count": 2,
   "id": "675e7d5c-1c69-420f-b3bf-b47b3c0db634",
   "metadata": {},
   "outputs": [
    {
     "name": "stdout",
     "output_type": "stream",
     "text": [
      "/home/ladans/Learning systems/Sample3_3\n",
      "/home/ladans/Learning systems/Sample3_3/3_3_small.csv\n"
     ]
    }
   ],
   "source": [
    "import os\n",
    "current_directory = os.getcwd()\n",
    "print(current_directory)\n",
    "dir_base = os.path.join(current_directory,'3_3_small.csv')\n",
    "print(dir_base)\n",
    "#des_base = os.path.join(dir_base,'3_3_small.csv')\n",
    "#print(des_base)"
   ]
  },
  {
   "cell_type": "code",
   "execution_count": 3,
   "id": "937f8c21",
   "metadata": {},
   "outputs": [
    {
     "name": "stdout",
     "output_type": "stream",
     "text": [
      "f\n"
     ]
    }
   ],
   "source": [
    "\n",
    "# Load data\n",
    "data = pd.read_csv(dir_base)\n",
    "\n",
    "# Define a function to convert the board into numeric values (1 for 'X', 2 for 'O', 0 for space)\n",
    "def convert_board_to_numeric(board):\n",
    "    return [1 if ch == 'X' else 2 if ch == 'O' else 0 for ch in board]\n",
    "\n",
    "# Apply the conversion and reshape each row into a 3x3 matrix\n",
    "data['numeric_board'] = data['board'].apply(convert_board_to_numeric)\n",
    "data['numeric_board_matrix'] = data['numeric_board'].apply(lambda x: np.array(x).reshape(3, 3))\n",
    "\n",
    "# Split into training and test sets\n",
    "board_size = 3\n",
    "subset_size = int(data.shape[0] * 0.9)\n",
    "X_train = data['numeric_board_matrix'].iloc[:subset_size]\n",
    "X_test = data['numeric_board_matrix'].iloc[subset_size:]\n",
    "Y_train = data['winner'].iloc[:subset_size]\n",
    "Y_test = data['winner'].iloc[subset_size:]\n",
    "\n",
    "# Convert to list\n",
    "X_train_list = np.array(X_train.tolist())\n",
    "X_test_list = np.array(X_test.tolist())\n",
    "print('f')"
   ]
  },
  {
   "cell_type": "code",
   "execution_count": 4,
   "id": "a06416f4-fa3a-4c70-87a6-e0968c6632ba",
   "metadata": {},
   "outputs": [
    {
     "data": {
      "text/plain": [
       "array([1, 0, 0, ..., 1, 1, 0])"
      ]
     },
     "execution_count": 4,
     "metadata": {},
     "output_type": "execute_result"
    }
   ],
   "source": [
    "# Convert Y_train from Pandas Series to NumPy array\n",
    "Y_train_array = Y_train.to_numpy()\n",
    "\n",
    "# Similarly, convert Y_test if needed\n",
    "Y_test_array = Y_test.to_numpy()\n",
    "Y_train_array"
   ]
  },
  {
   "cell_type": "code",
   "execution_count": 5,
   "id": "d9a9268d-3171-4eeb-ad5d-1c38956e708d",
   "metadata": {},
   "outputs": [
    {
     "data": {
      "text/plain": [
       "array([[0, 1, 0],\n",
       "       [1, 1, 2],\n",
       "       [2, 2, 0]])"
      ]
     },
     "execution_count": 5,
     "metadata": {},
     "output_type": "execute_result"
    }
   ],
   "source": [
    "X_train[0]"
   ]
  },
  {
   "cell_type": "code",
   "execution_count": 6,
   "id": "8695c37e-7650-4a6a-9054-b8f92859a627",
   "metadata": {},
   "outputs": [
    {
     "name": "stdout",
     "output_type": "stream",
     "text": [
      "[2, 4, 3, 4, 6, 4, 3, 4, 2]\n"
     ]
    }
   ],
   "source": [
    "# Initialize a dictionary to store the number of edges for each node\n",
    "node_edges = {}\n",
    "dim=3\n",
    "for row in range(dim):\n",
    "    for col in range(dim):\n",
    "        node_id = row * dim + col  # Unique node ID for each hexagon\n",
    "\n",
    "        # Dynamically calculate the number of neighbors for each node\n",
    "        number_of_neighbors = 0\n",
    "        if row > 0: number_of_neighbors += 1  # Above\n",
    "        if row < dim - 1: number_of_neighbors += 1  # Below\n",
    "        if col > 0: number_of_neighbors += 1  # Left\n",
    "        if col < dim - 1: number_of_neighbors += 1  # Right\n",
    "        if row > 0 and col < dim - 1: number_of_neighbors += 1  # AboveRight\n",
    "        if row < dim - 1 and col > 0: number_of_neighbors += 1  # BelowLeft\n",
    "        \n",
    "        # Store the number of edges for this node\n",
    "        node_edges[node_id] = number_of_neighbors\n",
    "\n",
    "# Extract just the values (number of edges) into a list\n",
    "n_edges_list = list(node_edges.values())\n",
    "\n",
    "# Output the list of edge values (optional)\n",
    "print(n_edges_list)"
   ]
  },
  {
   "cell_type": "code",
   "execution_count": 13,
   "id": "62ee6eed-6baa-4eac-a364-c91d586205d5",
   "metadata": {},
   "outputs": [
    {
     "data": {
      "text/plain": [
       "[((0, 0), (0, 1)),\n",
       " ((0, 1), (0, 2)),\n",
       " ((1, 0), (1, 1)),\n",
       " ((1, 1), (1, 2)),\n",
       " ((2, 0), (2, 1)),\n",
       " ((2, 1), (2, 2)),\n",
       " ((0, 0), (1, 0)),\n",
       " ((1, 0), (2, 0)),\n",
       " ((0, 1), (1, 1)),\n",
       " ((1, 1), (2, 1)),\n",
       " ((0, 2), (1, 2)),\n",
       " ((1, 2), (2, 2)),\n",
       " ((0, 1), (1, 0)),\n",
       " ((0, 2), (1, 1)),\n",
       " ((1, 1), (2, 0)),\n",
       " ((1, 2), (2, 1))]"
      ]
     },
     "execution_count": 13,
     "metadata": {},
     "output_type": "execute_result"
    }
   ],
   "source": [
    "#this part is responsible for generating edges (connections) between adjacent cells in a 3x3 Hex grid. Rows, columns and Diagonals\n",
    "import itertools\n",
    "dim=3\n",
    "# Function to generate edges for a 3x3 grid\n",
    "def generate_edges():\n",
    "    edges = []\n",
    "\n",
    "    # Row connections (horizontal)\n",
    "    for row in range(dim):\n",
    "        for col in range(dim-1):  # 2 because we connect (col, col+1)\n",
    "            edges.append(((row, col), (row, col+1)))\n",
    "    \n",
    "    # Column connections (vertical)\n",
    "    for col in range(dim):\n",
    "        for row in range(dim-1):  # 2 because we connect (row, row+1)\n",
    "            edges.append(((row, col), (row+1, col)))\n",
    "\n",
    "    # Diagonal connections (from bottom-left to top-right)\n",
    "    for row in range(dim-1):\n",
    "        for col in range(dim-1):  # Diagonals will only connect within the bounds\n",
    "            edges.append(((row, col+1), (row+1, col)))\n",
    "\n",
    "    return edges\n",
    "\n",
    "# Generate edges\n",
    "edges = generate_edges()\n",
    "\n",
    "edges"
   ]
  },
  {
   "cell_type": "code",
   "execution_count": 8,
   "id": "20e06111-ff79-4563-8c8e-9f9f7126658b",
   "metadata": {},
   "outputs": [
    {
     "data": {
      "text/plain": [
       "['Blue', 'Red', 'White']"
      ]
     },
     "execution_count": 8,
     "metadata": {},
     "output_type": "execute_result"
    }
   ],
   "source": [
    "symbol_names = [\"Blue\", \"Red\", \"White\"]\n",
    "symbol_names"
   ]
  },
  {
   "cell_type": "code",
   "execution_count": 9,
   "id": "a7ac9501-c7d7-4727-84dd-ec3f75786125",
   "metadata": {},
   "outputs": [],
   "source": [
    "import argparse\n",
    "import sys\n",
    "\n",
    "def default_args(**kwargs):\n",
    "    parser = argparse.ArgumentParser()\n",
    "    parser.add_argument(\"--epochs\", default=100, type=int)\n",
    "    parser.add_argument(\"--number-of-clauses\", default=200, type=int)\n",
    "    parser.add_argument(\"--T\", default=400, type=int)\n",
    "    parser.add_argument(\"--s\", default=1.2, type=float)\n",
    "    parser.add_argument(\"--depth\", default=3, type=int)\n",
    "    parser.add_argument(\"--hypervector-size\", default=512, type=int)\n",
    "    parser.add_argument(\"--hypervector-bits\", default=2, type=int)\n",
    "    parser.add_argument(\"--message-size\", default=512, type=int)\n",
    "    parser.add_argument(\"--message-bits\", default=2, type=int)\n",
    "    parser.add_argument('--double-hashing', dest='double_hashing', default=False, action='store_true')\n",
    "    parser.add_argument(\"--max-included-literals\", default=16, type=int)\n",
    "\n",
    "    # Add this line to avoid Jupyter arguments causing an error\n",
    "    args = parser.parse_args(args=[])  # Ignore any command line arguments\n",
    "\n",
    "    for key, value in kwargs.items():\n",
    "        if key in args.__dict__:\n",
    "            setattr(args, key, value)\n",
    "    return args\n",
    "args = default_args()"
   ]
  },
  {
   "cell_type": "code",
   "execution_count": 10,
   "id": "e5679fed",
   "metadata": {},
   "outputs": [
    {
     "name": "stdout",
     "output_type": "stream",
     "text": [
      "end\n"
     ]
    }
   ],
   "source": [
    "# Initialize the graph structure for training\n",
    "graphs_train = Graphs(\n",
    "    number_of_graphs=subset_size,\n",
    "    symbols=symbol_names,\n",
    "    hypervector_size=args.hypervector_size,\n",
    "    hypervector_bits=args.hypervector_bits,\n",
    "    double_hashing=args.double_hashing,\n",
    ")\n",
    "# Prepare nodes\n",
    "for graph_id in range(X_train_list.shape[0]):\n",
    "    graphs_train.set_number_of_graph_nodes(\n",
    "        graph_id=graph_id,\n",
    "        number_of_graph_nodes=dim**2,\n",
    "    )\n",
    "graphs_train.prepare_node_configuration()\n",
    "\n",
    "# Prepare edges\n",
    "for graph_id in range(X_train_list.shape[0]):\n",
    "    for k in range(dim**2):\n",
    "        graphs_train.add_graph_node(graph_id, k, n_edges_list[k])\n",
    "graphs_train.prepare_edge_configuration()\n",
    "\n",
    "\n",
    "# Add nodes and their properties for each graph\n",
    "for graph_id in range(X_train_list.shape[0]):\n",
    "    for k in range(9):  # 9 nodes for the 3x3 grid\n",
    "        # Get the value of the current cell in the board\n",
    "        cell_value = X_train_list[graph_id].flatten()[k]  # Flatten to 1D array\n",
    "\n",
    "        # Assign node properties based on the board state\n",
    "        if cell_value == 1:  # Player 1\n",
    "            graphs_train.add_graph_node_property(graph_id, k, \"Blue\")\n",
    "        elif cell_value == 2:  # Player 2\n",
    "            graphs_train.add_graph_node_property(graph_id, k, \"Red\")\n",
    "        else:  # Empty cell\n",
    "            graphs_train.add_graph_node_property(graph_id, k, \"White\")\n",
    "\n",
    "# Prepare edge configuration for the training data\n",
    "graphs_train.prepare_edge_configuration()\n",
    "\n",
    "# Add edge connections based on the predefined edges\n",
    "for graph_id in range(X_train_list.shape[0]):\n",
    "    for edge in edges:\n",
    "        node_id = edge[0][0] * dim + edge[0][1]  # Convert (row, col) to node ID\n",
    "        destination_node_id = edge[1][0] * dim + edge[1][1]\n",
    "\n",
    "        # Add bidirectional edges\n",
    "        graphs_train.add_graph_node_edge(graph_id, node_id, destination_node_id, edge_type_name=0)\n",
    "        graphs_train.add_graph_node_edge(graph_id, destination_node_id, node_id, edge_type_name=0)\n",
    "\n",
    "# Encode the graph\n",
    "graphs_train.encode()\n",
    "print('end')"
   ]
  },
  {
   "cell_type": "code",
   "execution_count": 11,
   "id": "52d7355e",
   "metadata": {},
   "outputs": [
    {
     "name": "stdout",
     "output_type": "stream",
     "text": [
      "end\n"
     ]
    }
   ],
   "source": [
    "\n",
    "# Initialize the graph structure for test data\n",
    "graphs_test = Graphs(X_test_list.shape[0], init_with=graphs_train)\n",
    "\n",
    "\n",
    "# Prepare nodes\n",
    "for graph_id in range(X_test_list.shape[0]):\n",
    "    graphs_test.set_number_of_graph_nodes(\n",
    "        graph_id=graph_id,\n",
    "        number_of_graph_nodes=dim**2,\n",
    "    )\n",
    "graphs_test.prepare_node_configuration()\n",
    "\n",
    "# Prepare edges\n",
    "for graph_id in range(X_test_list.shape[0]):\n",
    "    for k in range(dim**2):\n",
    "        graphs_test.add_graph_node(graph_id, k, n_edges_list[k])\n",
    "graphs_test.prepare_edge_configuration()\n",
    "\n",
    "\n",
    "# Add nodes and their properties for each graph\n",
    "for graph_id in range(X_test_list.shape[0]):\n",
    "    for k in range(9):  # 9 nodes for the 3x3 grid\n",
    "        # Get the value of the current cell in the board\n",
    "        cell_value = X_test_list[graph_id].flatten()[k]  # Flatten to 1D array\n",
    "\n",
    "        # Assign node properties based on the board state\n",
    "        if cell_value == 1:  # Player 1\n",
    "            graphs_test.add_graph_node_property(graph_id, k, \"Blue\")\n",
    "        elif cell_value == 2:  # Player 2\n",
    "            graphs_test.add_graph_node_property(graph_id, k, \"Red\")\n",
    "        else:  # Empty cell\n",
    "            graphs_test.add_graph_node_property(graph_id, k, \"White\")\n",
    "\n",
    "\n",
    "# Add edge connections based on the predefined edges\n",
    "for graph_id in range(X_test_list.shape[0]):\n",
    "    for edge in edges:\n",
    "        node_id = edge[0][0] * dim + edge[0][1]  # Convert (row, col) to node ID\n",
    "        destination_node_id = edge[1][0] * dim + edge[1][1]\n",
    "\n",
    "        # Add bidirectional edges\n",
    "        graphs_test.add_graph_node_edge(graph_id, node_id, destination_node_id, edge_type_name=0)\n",
    "        graphs_test.add_graph_node_edge(graph_id, destination_node_id, node_id, edge_type_name=0)\n",
    "graphs_test.encode()\n",
    "print('end')\n"
   ]
  },
  {
   "cell_type": "code",
   "execution_count": 12,
   "id": "8550d5d0-1b8a-4a30-8788-0773305052a1",
   "metadata": {},
   "outputs": [
    {
     "name": "stdout",
     "output_type": "stream",
     "text": [
      "Initialization of sparse structure.\n",
      "Epoch#1 -- Accuracy train: 0.8577777777777778 -- Accuracy test: 0.865 \n",
      "Epoch#2 -- Accuracy train: 0.8216666666666667 -- Accuracy test: 0.835 \n",
      "Epoch#3 -- Accuracy train: 0.5 -- Accuracy test: 0.48 \n",
      "Epoch#4 -- Accuracy train: 0.8477777777777777 -- Accuracy test: 0.855 \n",
      "Epoch#5 -- Accuracy train: 0.8466666666666667 -- Accuracy test: 0.86 \n",
      "Epoch#6 -- Accuracy train: 0.8833333333333333 -- Accuracy test: 0.85 \n",
      "Epoch#7 -- Accuracy train: 0.94 -- Accuracy test: 0.955 \n",
      "Epoch#8 -- Accuracy train: 0.9161111111111111 -- Accuracy test: 0.94 \n",
      "Epoch#9 -- Accuracy train: 0.8855555555555555 -- Accuracy test: 0.905 \n",
      "Epoch#10 -- Accuracy train: 0.84 -- Accuracy test: 0.855 \n",
      "Epoch#11 -- Accuracy train: 0.965 -- Accuracy test: 0.96 \n",
      "Epoch#12 -- Accuracy train: 0.9761111111111112 -- Accuracy test: 0.965 \n",
      "Epoch#13 -- Accuracy train: 0.9661111111111111 -- Accuracy test: 0.98 \n",
      "Epoch#14 -- Accuracy train: 0.8433333333333334 -- Accuracy test: 0.82 \n",
      "Epoch#15 -- Accuracy train: 0.9177777777777778 -- Accuracy test: 0.93 \n",
      "Epoch#16 -- Accuracy train: 0.8616666666666667 -- Accuracy test: 0.905 \n",
      "Epoch#17 -- Accuracy train: 0.7894444444444444 -- Accuracy test: 0.8 \n",
      "Epoch#18 -- Accuracy train: 0.6116666666666667 -- Accuracy test: 0.63 \n",
      "Epoch#19 -- Accuracy train: 0.6138888888888889 -- Accuracy test: 0.575 \n",
      "Epoch#20 -- Accuracy train: 0.7266666666666667 -- Accuracy test: 0.745 \n",
      "Epoch#21 -- Accuracy train: 0.8094444444444444 -- Accuracy test: 0.835 \n",
      "Epoch#22 -- Accuracy train: 0.7361111111111112 -- Accuracy test: 0.785 \n",
      "Epoch#23 -- Accuracy train: 0.705 -- Accuracy test: 0.715 \n",
      "Epoch#24 -- Accuracy train: 0.765 -- Accuracy test: 0.77 \n",
      "Epoch#25 -- Accuracy train: 0.8427777777777777 -- Accuracy test: 0.81 \n",
      "Epoch#26 -- Accuracy train: 0.8733333333333333 -- Accuracy test: 0.86 \n",
      "Epoch#27 -- Accuracy train: 0.7605555555555555 -- Accuracy test: 0.77 \n",
      "Epoch#28 -- Accuracy train: 0.495 -- Accuracy test: 0.475 \n",
      "Epoch#29 -- Accuracy train: 0.805 -- Accuracy test: 0.815 \n",
      "Epoch#30 -- Accuracy train: 0.7477777777777778 -- Accuracy test: 0.785 \n",
      "Epoch#31 -- Accuracy train: 0.9661111111111111 -- Accuracy test: 0.96 \n",
      "Epoch#32 -- Accuracy train: 0.9227777777777778 -- Accuracy test: 0.94 \n",
      "Epoch#33 -- Accuracy train: 0.8622222222222222 -- Accuracy test: 0.875 \n",
      "Epoch#34 -- Accuracy train: 0.9211111111111111 -- Accuracy test: 0.93 \n",
      "Epoch#35 -- Accuracy train: 0.9822222222222222 -- Accuracy test: 0.98 \n",
      "Epoch#36 -- Accuracy train: 0.9666666666666667 -- Accuracy test: 0.975 \n",
      "Epoch#37 -- Accuracy train: 0.9811111111111112 -- Accuracy test: 0.985 \n",
      "Epoch#38 -- Accuracy train: 0.9733333333333334 -- Accuracy test: 0.98 \n",
      "Epoch#39 -- Accuracy train: 0.9788888888888889 -- Accuracy test: 0.975 \n",
      "Epoch#40 -- Accuracy train: 0.9911111111111112 -- Accuracy test: 0.985 \n",
      "Epoch#41 -- Accuracy train: 0.9238888888888889 -- Accuracy test: 0.93 \n",
      "Epoch#42 -- Accuracy train: 0.8166666666666667 -- Accuracy test: 0.815 \n",
      "Epoch#43 -- Accuracy train: 0.8372222222222222 -- Accuracy test: 0.815 \n",
      "Epoch#44 -- Accuracy train: 0.7972222222222223 -- Accuracy test: 0.815 \n",
      "Epoch#45 -- Accuracy train: 0.7927777777777778 -- Accuracy test: 0.805 \n",
      "Epoch#46 -- Accuracy train: 0.9133333333333333 -- Accuracy test: 0.93 \n",
      "Epoch#47 -- Accuracy train: 0.9527777777777777 -- Accuracy test: 0.94 \n",
      "Epoch#48 -- Accuracy train: 0.9544444444444444 -- Accuracy test: 0.95 \n",
      "Epoch#49 -- Accuracy train: 0.9161111111111111 -- Accuracy test: 0.93 \n",
      "Epoch#50 -- Accuracy train: 0.4527777777777778 -- Accuracy test: 0.465 \n",
      "Epoch#51 -- Accuracy train: 0.7411111111111112 -- Accuracy test: 0.785 \n",
      "Epoch#52 -- Accuracy train: 0.7572222222222222 -- Accuracy test: 0.75 \n",
      "Epoch#53 -- Accuracy train: 0.85 -- Accuracy test: 0.84 \n",
      "Epoch#54 -- Accuracy train: 0.8661111111111112 -- Accuracy test: 0.88 \n",
      "Epoch#55 -- Accuracy train: 0.9544444444444444 -- Accuracy test: 0.955 \n",
      "Epoch#56 -- Accuracy train: 0.9472222222222222 -- Accuracy test: 0.94 \n",
      "Epoch#57 -- Accuracy train: 0.9566666666666667 -- Accuracy test: 0.95 \n",
      "Epoch#58 -- Accuracy train: 0.9872222222222222 -- Accuracy test: 0.985 \n",
      "Epoch#59 -- Accuracy train: 0.9616666666666667 -- Accuracy test: 0.965 \n",
      "Epoch#60 -- Accuracy train: 0.9922222222222222 -- Accuracy test: 0.985 \n",
      "Epoch#61 -- Accuracy train: 0.9872222222222222 -- Accuracy test: 0.99 \n",
      "Epoch#62 -- Accuracy train: 0.9638888888888889 -- Accuracy test: 0.96 \n",
      "Epoch#63 -- Accuracy train: 0.9672222222222222 -- Accuracy test: 0.97 \n",
      "Epoch#64 -- Accuracy train: 0.9877777777777778 -- Accuracy test: 0.98 \n",
      "Epoch#65 -- Accuracy train: 0.9877777777777778 -- Accuracy test: 0.985 \n",
      "Epoch#66 -- Accuracy train: 0.9927777777777778 -- Accuracy test: 0.99 \n",
      "Epoch#67 -- Accuracy train: 0.7644444444444445 -- Accuracy test: 0.74 \n",
      "Epoch#68 -- Accuracy train: 0.8122222222222222 -- Accuracy test: 0.795 \n",
      "Epoch#69 -- Accuracy train: 0.9583333333333334 -- Accuracy test: 0.95 \n",
      "Epoch#70 -- Accuracy train: 0.9216666666666666 -- Accuracy test: 0.93 \n",
      "Epoch#71 -- Accuracy train: 0.8961111111111111 -- Accuracy test: 0.905 \n",
      "Epoch#72 -- Accuracy train: 0.9411111111111111 -- Accuracy test: 0.95 \n",
      "Epoch#73 -- Accuracy train: 0.9133333333333333 -- Accuracy test: 0.885 \n",
      "Epoch#74 -- Accuracy train: 0.9038888888888889 -- Accuracy test: 0.9 \n",
      "Epoch#75 -- Accuracy train: 0.9866666666666667 -- Accuracy test: 0.99 \n",
      "Epoch#76 -- Accuracy train: 0.975 -- Accuracy test: 0.97 \n",
      "Epoch#77 -- Accuracy train: 0.9416666666666667 -- Accuracy test: 0.935 \n",
      "Epoch#78 -- Accuracy train: 0.9822222222222222 -- Accuracy test: 0.985 \n",
      "Epoch#79 -- Accuracy train: 0.9683333333333334 -- Accuracy test: 0.98 \n",
      "Epoch#80 -- Accuracy train: 0.9827777777777778 -- Accuracy test: 0.985 \n",
      "Epoch#81 -- Accuracy train: 0.9894444444444445 -- Accuracy test: 0.995 \n",
      "Epoch#82 -- Accuracy train: 0.9894444444444445 -- Accuracy test: 0.995 \n",
      "Epoch#83 -- Accuracy train: 0.9905555555555555 -- Accuracy test: 0.995 \n",
      "Epoch#84 -- Accuracy train: 0.9888888888888889 -- Accuracy test: 0.995 \n",
      "Epoch#85 -- Accuracy train: 0.9005555555555556 -- Accuracy test: 0.88 \n",
      "Epoch#86 -- Accuracy train: 0.9244444444444444 -- Accuracy test: 0.915 \n",
      "Epoch#87 -- Accuracy train: 0.9738888888888889 -- Accuracy test: 0.975 \n",
      "Epoch#88 -- Accuracy train: 0.985 -- Accuracy test: 0.985 \n",
      "Epoch#89 -- Accuracy train: 0.9444444444444444 -- Accuracy test: 0.955 \n",
      "Epoch#90 -- Accuracy train: 0.9711111111111111 -- Accuracy test: 0.97 \n",
      "Epoch#91 -- Accuracy train: 0.9661111111111111 -- Accuracy test: 0.965 \n",
      "Epoch#92 -- Accuracy train: 0.9844444444444445 -- Accuracy test: 0.985 \n",
      "Epoch#93 -- Accuracy train: 0.6288888888888889 -- Accuracy test: 0.6 \n",
      "Epoch#94 -- Accuracy train: 0.5183333333333333 -- Accuracy test: 0.515 \n",
      "Epoch#95 -- Accuracy train: 0.9272222222222222 -- Accuracy test: 0.95 \n",
      "Epoch#96 -- Accuracy train: 0.9561111111111111 -- Accuracy test: 0.955 \n",
      "Epoch#97 -- Accuracy train: 0.7472222222222222 -- Accuracy test: 0.745 \n",
      "Epoch#98 -- Accuracy train: 0.7272222222222222 -- Accuracy test: 0.725 \n",
      "Epoch#99 -- Accuracy train: 0.6488888888888888 -- Accuracy test: 0.6 \n",
      "Epoch#100 -- Accuracy train: 0.7677777777777778 -- Accuracy test: 0.74 \n",
      "Time: 133.74467182159424\n"
     ]
    }
   ],
   "source": [
    "# Train the Tsetlin Machine\n",
    "tm = MultiClassGraphTsetlinMachine(\n",
    "    args.number_of_clauses,\n",
    "    args.T,\n",
    "    args.s,\n",
    "    depth=args.depth,\n",
    "    message_size=args.message_size,\n",
    "    message_bits=args.message_bits,\n",
    "    max_included_literals=args.max_included_literals,\n",
    "    grid=(16*13,1,1),\n",
    "    block=(128,1,1)\n",
    ")\n",
    "\n",
    "start_training = time()\n",
    "for i in range(args.epochs):\n",
    "    tm.fit(graphs_train, Y_train_array, epochs=1, incremental=True)\n",
    "    print(f\"Epoch#{i+1} -- Accuracy train: {np.mean(Y_train_array == tm.predict(graphs_train))}\", end=' ')\n",
    "    print(f\"-- Accuracy test: {np.mean(Y_test_array == tm.predict(graphs_test))} \")\n",
    "stop_training = time()\n",
    "print(f\"Time: {stop_training - start_training}\")\n"
   ]
  },
  {
   "cell_type": "code",
   "execution_count": null,
   "id": "b3d61a2d-343a-47f7-8624-0a0b3ef7009d",
   "metadata": {},
   "outputs": [],
   "source": []
  }
 ],
 "metadata": {
  "kernelspec": {
   "display_name": "Python 3 (ipykernel)",
   "language": "python",
   "name": "python3"
  },
  "language_info": {
   "codemirror_mode": {
    "name": "ipython",
    "version": 3
   },
   "file_extension": ".py",
   "mimetype": "text/x-python",
   "name": "python",
   "nbconvert_exporter": "python",
   "pygments_lexer": "ipython3",
   "version": "3.11.6"
  }
 },
 "nbformat": 4,
 "nbformat_minor": 5
}
