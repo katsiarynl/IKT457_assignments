{
 "cells": [
  {
   "cell_type": "code",
   "execution_count": 23,
   "metadata": {},
   "outputs": [],
   "source": [
    "def check_win(matrix, player):\n",
    "    queue = deque()\n",
    "    visited = set()\n",
    "    if player == 1:\n",
    "        for r in range(len(matrix[0])):\n",
    "            if matrix[r][0] == player:\n",
    "                queue.append((r,0))\n",
    "                visited.add((r,0))\n",
    "        while queue:\n",
    "            r, c = queue.popleft()\n",
    "            if c == len(matrix) - 1:\n",
    "                return player\n",
    "            for x, y in ((r-1,c), (r,c-1), (r+1,c), (r,c+1), (r-1,c+1), (r+1,c-1)):\n",
    "                if 0 <= x < len(matrix) and 0 <= y < len(matrix[0]) and matrix[x][y] == player and (x,y) not in visited:\n",
    "                    queue.append((x,y))\n",
    "                    visited.add((x,y))\n",
    "        return 0\n",
    "    else:\n",
    "        for c in range(len(matrix[0])):\n",
    "            if matrix[0][c] == player:\n",
    "                queue.append((0,c))\n",
    "                visited.add((0,c))\n",
    "        while queue:\n",
    "            r, c = queue.popleft()\n",
    "            if r == len(matrix) - 1:\n",
    "                return player\n",
    "            for x, y in ((r-1,c), (r,c-1), (r+1,c), (r,c+1), (r-1,c+1), (r+1,c-1)):\n",
    "                if 0 <= x < len(matrix) and 0 <= y < len(matrix[0]) and matrix[x][y] == player and (x,y) not in visited:\n",
    "                    queue.append((x,y))\n",
    "                    visited.add((x,y))\n",
    "        return 0"
   ]
  },
  {
   "cell_type": "code",
   "execution_count": 26,
   "metadata": {},
   "outputs": [
    {
     "data": {
      "text/plain": [
       "0"
      ]
     },
     "execution_count": 26,
     "metadata": {},
     "output_type": "execute_result"
    }
   ],
   "source": [
    "board = [[0, 0, 2, 1, 0],\n",
    "         [0, 0, 1, 0, 2],\n",
    "         [2, 0, 1, 0, 0],\n",
    "         [0, 1, 0, 0, 0],\n",
    "         [1, 2, 0, 0, 1]]\n",
    "\n",
    "\n",
    "check_win(board, 2)"
   ]
  },
  {
   "cell_type": "code",
   "execution_count": 4,
   "metadata": {},
   "outputs": [
    {
     "name": "stdout",
     "output_type": "stream",
     "text": [
      "Starting DFS for Player 1 at (0, 3)\n",
      "Visiting cell (0, 3) for Player 1\n",
      "Visiting cell (1, 2) for Player 1\n",
      "Visiting cell (2, 2) for Player 1\n",
      "Starting DFS for Player 2 at (2, 0)\n",
      "Visiting cell (2, 0) for Player 2\n",
      "No winner\n",
      "[[0, 0, 2, 1, 0], [0, 0, 1, 0, 2], [2, 0, 1, 0, 0], [0, 2, 0, 0, 1], [1, 2, 0, 0, 1]]\n"
     ]
    }
   ],
   "source": [
    "def hex_winner(matrix):\n",
    "    n = len(matrix)\n",
    "    \n",
    "    # Directions for hexagonal neighbors: 6 possible directions\n",
    "    directions = [(-1, 0), (1, 0), (0, -1), (0, 1), (-1, 1), (1, -1)]\n",
    "    \n",
    "    def is_valid(x, y, player):\n",
    "        # Check if the cell (x, y) is within bounds, belongs to the player, and is unvisited\n",
    "        return 0 <= x < n and 0 <= y < n and matrix[x][y] == player and not visited[x][y]\n",
    "    \n",
    "    def dfs(x, y, player):\n",
    "        # Debug statement\n",
    "        print(f\"Visiting cell ({x}, {y}) for Player {player}\")\n",
    "        \n",
    "        if player == 1 and x == n - 1:  # Player 1 wins (reached bottom row)\n",
    "            return True\n",
    "        if player == 2 and y == n - 1:  # Player 2 wins (reached right column)\n",
    "            return True\n",
    "        \n",
    "        visited[x][y] = True\n",
    "        for dx, dy in directions:\n",
    "            nx, ny = x + dx, y + dy\n",
    "            if is_valid(nx, ny, player) and dfs(nx, ny, player):\n",
    "                return True\n",
    "        \n",
    "        return False\n",
    "    \n",
    "    # Check for Player 1 (top to bottom)\n",
    "    visited = [[False] * n for _ in range(n)]\n",
    "    for y in range(n):\n",
    "        if matrix[0][y] == 1:\n",
    "            print(f\"Starting DFS for Player 1 at (0, {y})\")\n",
    "            if dfs(0, y, 1):\n",
    "                return \"Player 1 wins\"\n",
    "    \n",
    "    # Check for Player 2 (left to right)\n",
    "    visited = [[False] * n for _ in range(n)]\n",
    "    for x in range(n):\n",
    "        if matrix[x][0] == 2:\n",
    "            print(f\"Starting DFS for Player 2 at ({x}, 0)\")\n",
    "            if dfs(x, 0, 2):\n",
    "                return \"Player 2 wins\"\n",
    "    \n",
    "    return \"No winner\"\n",
    "\n",
    "# Example board with a winning path for Player 2\n",
    "board = [[0, 0, 2, 1, 0],\n",
    "         [0, 0, 1, 0, 2],\n",
    "         [2, 0, 1, 0, 0],\n",
    "         [0, 0, 0, 0, 1],\n",
    "         [1, 2, 0, 0, 1]]\n",
    "\n",
    "# test_2= [[0 1 2 0 2],\n",
    "#         [2 2 1 2 1],\n",
    "#         [1 0 1 1 1],\n",
    "#         [0 1 2 2 2],\n",
    "#         [2 2 0 1 1]]\n",
    "print(hex_winner(board))\n",
    "print(board)\n"
   ]
  }
 ],
 "metadata": {
  "kernelspec": {
   "display_name": "Python 3",
   "language": "python",
   "name": "python3"
  },
  "language_info": {
   "codemirror_mode": {
    "name": "ipython",
    "version": 3
   },
   "file_extension": ".py",
   "mimetype": "text/x-python",
   "name": "python",
   "nbconvert_exporter": "python",
   "pygments_lexer": "ipython3",
   "version": "3.8.0"
  }
 },
 "nbformat": 4,
 "nbformat_minor": 2
}
