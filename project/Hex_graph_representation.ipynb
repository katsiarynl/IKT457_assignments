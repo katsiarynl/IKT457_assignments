{
 "cells": [
  {
   "cell_type": "code",
   "execution_count": 1,
   "id": "438b4f71-82ec-4c89-af32-4194cbc1b7d5",
   "metadata": {},
   "outputs": [],
   "source": [
    "import pandas as pd\n",
    "import networkx as nx\n",
    "import numpy as np\n",
    "import matplotlib.pyplot as plt"
   ]
  },
  {
   "cell_type": "code",
   "execution_count": 2,
   "id": "f2c552b2-9ced-4c48-a7d2-7cfc10c94fdc",
   "metadata": {},
   "outputs": [
    {
     "name": "stdout",
     "output_type": "stream",
     "text": [
      "/home/ladans/Learning systems\n"
     ]
    }
   ],
   "source": [
    "import os\n",
    "current_directory = os.getcwd()\n",
    "print(current_directory)"
   ]
  },
  {
   "cell_type": "code",
   "execution_count": 3,
   "id": "fedd0bc6-f935-4580-9238-f97fdc80046e",
   "metadata": {},
   "outputs": [
    {
     "name": "stdout",
     "output_type": "stream",
     "text": [
      "/home/ladans/Learning systems/hex_game_results_13.csv\n"
     ]
    }
   ],
   "source": [
    "dir_base = os.path.join(os.getcwd(),'hex_game_results_13.csv')\n",
    "print(dir_base)"
   ]
  },
  {
   "cell_type": "code",
   "execution_count": 4,
   "id": "2cc68091-7646-4155-974e-a3cdea708e7e",
   "metadata": {},
   "outputs": [
    {
     "data": {
      "text/plain": [
       "0       [85, 99, 108, 134, 47, 12, 110, 76, 142, 165, ...\n",
       "1       [125, 28, 20, 24, 17, 65, 116, 36, 159, 12, 15...\n",
       "2       [94, 158, 25, 2, 87, 144, 18, 5, 44, 79, 154, ...\n",
       "3       [150, 62, 34, 160, 81, 123, 48, 39, 71, 125, 1...\n",
       "4       [87, 16, 3, 64, 68, 21, 134, 76, 153, 91, 26, ...\n",
       "                              ...                        \n",
       "9995    [102, 104, 113, 120, 9, 70, 95, 152, 35, 45, 1...\n",
       "9996    [14, 57, 130, 58, 19, 96, 120, 46, 13, 145, 34...\n",
       "9997    [56, 58, 122, 162, 96, 64, 74, 102, 165, 70, 1...\n",
       "9998    [4, 9, 126, 118, 10, 80, 84, 166, 134, 29, 153...\n",
       "9999    [167, 34, 111, 47, 24, 84, 145, 117, 103, 17, ...\n",
       "Name: Moves, Length: 10000, dtype: object"
      ]
     },
     "execution_count": 4,
     "metadata": {},
     "output_type": "execute_result"
    }
   ],
   "source": [
    "df = pd.read_csv(dir_base)\n",
    "df = df.iloc[:10000]\n",
    "df['Moves'] = df['Moves'].apply(lambda x: list(map(int, x.split())))\n",
    "df['Moves']"
   ]
  },
  {
   "cell_type": "code",
   "execution_count": 5,
   "id": "9b9e86ab-3140-478f-9771-8089bc7ccd6b",
   "metadata": {},
   "outputs": [
    {
     "name": "stdout",
     "output_type": "stream",
     "text": [
      "164\n"
     ]
    }
   ],
   "source": [
    "first_cell=df['Moves'].iloc[0]\n",
    "print(len(first_cell))"
   ]
  },
  {
   "cell_type": "code",
   "execution_count": null,
   "id": "91b05d9d-dec0-41f6-81c6-d6a095108e4f",
   "metadata": {},
   "outputs": [],
   "source": [
    "def move_to_coordinates(move, board_size):\n",
    "    row = move // board_size\n",
    "    col = move % board_size\n",
    "    return row, col\n",
    "\n",
    "def create_hex_graph(board_dim, moves):\n",
    "    G = nx.Graph()\n",
    "    \n",
    "    # Add nodes for each hexagonal position on the board\n",
    "    for i in range(board_dim):\n",
    "        for j in range(board_dim):\n",
    "            G.add_node((i, j), player=None)  # Initially, no player has occupied the position\n",
    "    \n",
    "    # Add edges between neighboring positions\n",
    "    for i in range(board_dim):\n",
    "        for j in range(board_dim):\n",
    "            neighbors = [\n",
    "                (i - 1, j), (i + 1, j),          # Vertical neighbors\n",
    "                (i, j - 1), (i, j + 1),          # Horizontal neighbors\n",
    "                (i - 1, j + 1), (i + 1, j - 1)   # Diagonal neighbors\n",
    "            ]\n",
    "            for neighbor in neighbors:\n",
    "                if 0 <= neighbor[0] < board_dim and 0 <= neighbor[1] < board_dim:\n",
    "                    G.add_edge((i, j), neighbor)\n",
    "    \n",
    "    # Assign player moves to nodes\n",
    "    for i, move in enumerate(moves):\n",
    "        player = 1 if i % 2 == 0 else 2  # Alternate between Player 1 and Player 2\n",
    "        row, col = move_to_coordinates(move, board_dim)\n",
    "        if 0 <= row < board_dim and 0 <= col < board_dim:\n",
    "            G.nodes[(row, col)]['player'] = player\n",
    "        else:\n",
    "            print(f\"Invalid move: {move} exceeds board size\")\n",
    "    \n",
    "    return G\n",
    "\n",
    "def visualize_hex_graph(G):\n",
    "    pos = {(i, j): (j, -i) for i, j in G.nodes()}  # Arrange nodes in hexagonal layout\n",
    "    labels = {node: G.nodes[node]['player'] for node in G.nodes()}\n",
    "    \n",
    "    plt.figure(figsize=(8, 8))\n",
    "    nx.draw(G, pos, labels=labels, with_labels=True, node_size=700, node_color='lightgreen')\n",
    "    plt.show()"
   ]
  },
  {
   "cell_type": "markdown",
   "id": "fd70fc23-c6ae-48b9-96d1-9c985d547a88",
   "metadata": {},
   "source": [
    "#########################################################################################################\n",
    "##################################### Process and store all games in the dataset########################\n",
    "#########################################################################################################"
   ]
  },
  {
   "cell_type": "code",
   "execution_count": null,
   "id": "ccee355d-36be-4eda-a321-5f8d451458da",
   "metadata": {},
   "outputs": [],
   "source": [
    "board_dim = 13\n",
    "game_graphs = []\n",
    "winners = []\n",
    "\n",
    "\n",
    "for index, row in df.iterrows():\n",
    "    game_moves = row['Moves']\n",
    "    winner = row['Winner']\n",
    "\n",
    "    game_graph = create_hex_graph(board_dim, game_moves)\n",
    "    adjacency_matrix = nx.to_numpy_array(game_graph)    # Convert the graph to an adjacency matrix\n",
    "    game_graphs.append(adjacency_matrix)\n",
    "    winners.append(winner)\n",
    "\n",
    "    if index == 0:    # I have stored the first game graph separately to show the graph\n",
    "        first_game_graph = game_graph\n",
    "\n",
    "\n",
    "visualize_hex_graph(first_game_graph)# Visualize just the first game graph"
   ]
  },
  {
   "cell_type": "code",
   "execution_count": null,
   "id": "efd13940-4b09-4eaf-9d0b-efe4f7bff2df",
   "metadata": {},
   "outputs": [],
   "source": []
  }
 ],
 "metadata": {
  "kernelspec": {
   "display_name": "Python 3 (ipykernel)",
   "language": "python",
   "name": "python3"
  },
  "language_info": {
   "codemirror_mode": {
    "name": "ipython",
    "version": 3
   },
   "file_extension": ".py",
   "mimetype": "text/x-python",
   "name": "python",
   "nbconvert_exporter": "python",
   "pygments_lexer": "ipython3",
   "version": "3.11.6"
  }
 },
 "nbformat": 4,
 "nbformat_minor": 5
}
