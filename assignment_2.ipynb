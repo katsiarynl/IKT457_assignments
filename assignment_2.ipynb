{
 "cells": [
  {
   "cell_type": "code",
   "execution_count": 8,
   "id": "68bd6ee6",
   "metadata": {},
   "outputs": [],
   "source": [
    "from random import random \n",
    "from random import choice"
   ]
  },
  {
   "cell_type": "code",
   "execution_count": 42,
   "id": "cd3d9750",
   "metadata": {},
   "outputs": [],
   "source": [
    "patients_with_recurrence = [\n",
    "    {\"Menopause lt40\": False, \"Menopause ge40\": True, \"Menopause premeno\": False, \n",
    "     \"Inv-Nodes 0-2\": False, \"Inv-Nodes 3-5\":True, \"Inv-Nodes 6-8\": False, \n",
    "     \"Deg-malig 1\": False, \"Deg-malig 2\": False, \"Deg-malig 3\": True\n",
    "     },\n",
    "\n",
    "\n",
    "    {\"Menopause lt40\": False, \"Menopause ge40\": True, \"Menopause premeno\": False, \n",
    "     \"Inv-Nodes 0-2\": False, \"Inv-Nodes 3-5\":False, \"Inv-Nodes 6-8\": True, \n",
    "     \"Deg-malig 1\": False, \"Deg-malig 2\": False, \"Deg-malig 3\": True},\n",
    "\n",
    "\n",
    "    {\"Menopause lt40\": False, \"Menopause ge40\": False, \"Menopause premeno\": True, \n",
    "     \"Inv-Nodes 0-2\": True, \"Inv-Nodes 3-5\":False, \"Inv-Nodes 6-8\": False, \n",
    "     \"Deg-malig 1\": False, \"Deg-malig 2\": False, \"Deg-malig 3\": True},\n",
    "     \n",
    "\n",
    "]"
   ]
  },
  {
   "cell_type": "code",
   "execution_count": 53,
   "id": "a80e4069",
   "metadata": {},
   "outputs": [],
   "source": [
    "patients_no_recurrence = [\n",
    "\n",
    "    {\"Menopause lt40\": True, \"Menopause ge40\": False, \"Menopause premeno\": False, \n",
    "     \"Inv-Nodes 0-2\": True, \"Inv-Nodes 3-5\":False, \"Inv-Nodes 6-8\": False, \n",
    "     \"Deg-malig 1\": False, \"Deg-malig 2\": False, \"Deg-malig 3\": True},\n",
    "\n",
    "    {\"Menopause lt40\": False, \"Menopause ge40\": True, \"Menopause premeno\": False, \n",
    "     \"Inv-Nodes 0-2\": True, \"Inv-Nodes 3-5\":False, \"Inv-Nodes 6-8\": False, \n",
    "     \"Deg-malig 1\": False, \"Deg-malig 2\": True, \"Deg-malig 3\": False},\n",
    "\n",
    "    {\"Menopause lt40\": False, \"Menopause ge40\": False, \"Menopause premeno\": True, \n",
    "     \"Inv-Nodes 0-2\": True, \"Inv-Nodes 3-5\":False, \"Inv-Nodes 6-8\": False, \n",
    "     \"Deg-malig 1\": True, \"Deg-malig 2\": False, \"Deg-malig 3\": False},\n",
    "\n",
    "]"
   ]
  },
  {
   "cell_type": "code",
   "execution_count": 54,
   "id": "53e4e857",
   "metadata": {},
   "outputs": [],
   "source": [
    "# Checks if the condition is satisfied \n",
    "def evaluate_condition(observation, condition):\n",
    "    truth_value_of_condition = True\n",
    "\n",
    "    for feature in observation:\n",
    "        if feature in condition and observation[feature] == False:\n",
    "            truth_value_of_condition = False\n",
    "            break\n",
    "        if 'NOT ' + feature in condition and observation[feature] == True:\n",
    "            truth_value_of_condition = False\n",
    "         \n",
    "            break\n",
    "    \n",
    "    return truth_value_of_condition"
   ]
  },
  {
   "cell_type": "code",
   "execution_count": 55,
   "id": "aa2b0af0",
   "metadata": {},
   "outputs": [],
   "source": [
    "class Memory:\n",
    "    def __init__(self, forget_value, memorize_value, memory):\n",
    "        self.memory = memory\n",
    "        self.forget_value = forget_value\n",
    "        self.memorize_value = memorize_value\n",
    "    \n",
    "    def get_memory(self):\n",
    "        return self.memory\n",
    "    \n",
    "    def get_literals(self):\n",
    "        return list(self.memory.keys())\n",
    "    \n",
    "    def get_condition(self):\n",
    "        condition = []\n",
    "        for literal in self.memory:\n",
    "            if self.memory[literal] >= 6:\n",
    "                condition.append(literal)\n",
    "        return condition\n",
    "        \n",
    "    def memorize(self, literal):\n",
    "        if random() <= self.memorize_value and self.memory[literal] < 10:\n",
    "            self.memory[literal] += 1\n",
    "            \n",
    "    def forget(self, literal):\n",
    "        if random() <= self.forget_value and self.memory[literal] > 1:\n",
    "            self.memory[literal] -= 1\n",
    "            \n",
    "    def memorize_always(self, literal):\n",
    "        if  self.memory[literal] < 10:\n",
    "            self.memory[literal] += 1"
   ]
  },
  {
   "cell_type": "code",
   "execution_count": 79,
   "id": "507cc5de",
   "metadata": {},
   "outputs": [],
   "source": [
    "# Recurrence rules\n",
    "rule_1=  Memory(0.2, 0.8, {'Menopause lt40':1, 'Menopause ge40':1, 'Menopause premeno':1, \n",
    "                             'NOT Menopause lt40':10, 'NOT Menopause ge40':1, 'NOT Menopause premeno':1, \n",
    "                             'Inv-Nodes 0-2': 1, 'Inv-Nodes 3-5':1, 'Inv-Nodes 6-8':1, \n",
    "                             'NOT Inv-Nodes 0-2':1, 'NOT Inv-Nodes 3-5': 1, 'NOT Inv-Nodes 6-8': 1, \n",
    "                             'Deg-malig 1':1, 'Deg-malig 2': 1, 'Deg-malig 3':10,\n",
    "                             'NOT Deg-malig 1':1, 'NOT Deg-malig 2':1, 'NOT Deg-malig 3':1,\n",
    "                         \n",
    "                             })\n",
    "\n",
    "rule_2=  Memory(0.2, 0.8,{'Menopause lt40':1, 'Menopause ge40':1, 'Menopause premeno':1, \n",
    "                             'NOT Menopause lt40':10, 'NOT Menopause ge40':1, 'NOT Menopause premeno':1, \n",
    "                             'Inv-Nodes 0-2': 1, 'Inv-Nodes 3-5':1, 'Inv-Nodes 6-8':1, \n",
    "                             'NOT Inv-Nodes 0-2':1, 'NOT Inv-Nodes 3-5': 1, 'NOT Inv-Nodes 6-8': 1, \n",
    "                             'Deg-malig 1':1, 'Deg-malig 2': 1, 'Deg-malig 3':10,\n",
    "                             'NOT Deg-malig 1':1, 'NOT Deg-malig 2':1, 'NOT Deg-malig 3':1,\n",
    "                         \n",
    "                             })\n",
    "\n",
    "# Non-recurrence rule\n",
    "rule_3 = Memory(0.2, 0.8, {'Menopause lt40':1, 'Menopause ge40':1, 'Menopause premeno':1, \n",
    "                             'NOT Menopause lt40':1, 'NOT Menopause ge40':1, 'NOT Menopause premeno':1, \n",
    "                             'Inv-Nodes 0-2': 10, 'Inv-Nodes 3-5':1, 'Inv-Nodes 6-8':1, \n",
    "                             'NOT Inv-Nodes 0-2': 1, 'NOT Inv-Nodes 3-5': 1, 'NOT Inv-Nodes 6-8': 1, \n",
    "                             'Deg-malig 1':1, 'Deg-malig 2': 1, 'Deg-malig 3':1,\n",
    "                             'NOT Deg-malig 1':1, 'NOT Deg-malig 2':1, 'NOT Deg-malig 3':1,\n",
    "                    \n",
    "                             })\n"
   ]
  },
  {
   "cell_type": "code",
   "execution_count": 80,
   "id": "8ac9d913",
   "metadata": {},
   "outputs": [
    {
     "name": "stdout",
     "output_type": "stream",
     "text": [
      "IF NOT Menopause lt40 AND Deg-malig 3 THEN Recurrence\n",
      "IF NOT Menopause lt40 AND Deg-malig 3 THEN Recurrence\n",
      "IF Inv-Nodes 0-2 THEN No Recurrence\n"
     ]
    }
   ],
   "source": [
    "\n",
    "print(\"IF \" + \" AND \".join(rule_1.get_condition()) + \" THEN Recurrence\")\n",
    "\n",
    "print(\"IF \" + \" AND \".join(rule_2.get_condition()) + \" THEN Recurrence\")\n",
    "\n",
    "print(\"IF \" + \" AND \".join(rule_3.get_condition()) + \" THEN No Recurrence\")\n"
   ]
  },
  {
   "cell_type": "code",
   "execution_count": 81,
   "id": "f3391252",
   "metadata": {},
   "outputs": [],
   "source": [
    "rule_4_recurrence = Memory(0.2, 0.8, {'Menopause lt40':5, 'Menopause ge40':5, 'Menopause premeno':5, \n",
    "                             'NOT Menopause lt40':5, 'NOT Menopause ge40':5, 'NOT Menopause premeno':5, \n",
    "                             'Inv-Nodes 0-2': 5, 'Inv-Nodes 3-5':5, 'Inv-Nodes 6-8':5, \n",
    "                             'NOT Inv-Nodes 0-2': 5, 'NOT Inv-Nodes 3-5': 5, 'NOT Inv-Nodes 6-8': 5, \n",
    "                             'Deg-malig 1':5, 'Deg-malig 2': 5, 'Deg-malig 3':5,\n",
    "                             'NOT Deg-malig 1':5, 'NOT Deg-malig 2':5, 'NOT Deg-malig 3':5,\n",
    "                    \n",
    "                             })\n",
    "\n",
    "\n",
    "rule_5_no_recurrence = Memory(0.2, 0.8, {'Menopause lt40':5, 'Menopause ge40':5, 'Menopause premeno':5, \n",
    "                             'NOT Menopause lt40':5, 'NOT Menopause ge40':5, 'NOT Menopause premeno':5, \n",
    "                             'Inv-Nodes 0-2': 5, 'Inv-Nodes 3-5':5, 'Inv-Nodes 6-8':5, \n",
    "                             'NOT Inv-Nodes 0-2': 5, 'NOT Inv-Nodes 3-5': 5, 'NOT Inv-Nodes 6-8': 5, \n",
    "                             'Deg-malig 1':5, 'Deg-malig 2': 5, 'Deg-malig 3':5,\n",
    "                             'NOT Deg-malig 1':5, 'NOT Deg-malig 2':5, 'NOT Deg-malig 3':5,\n",
    "                    \n",
    "                             })\n"
   ]
  },
  {
   "cell_type": "code",
   "execution_count": 82,
   "id": "211250c7",
   "metadata": {},
   "outputs": [],
   "source": [
    "def type_i_feedback(observation, memory):\n",
    "    remaining_literals = memory.get_literals()\n",
    "    if evaluate_condition(observation, memory.get_condition()) == True:\n",
    "        for feature in observation:\n",
    "            if observation[feature] == True:\n",
    "                memory.memorize(feature)\n",
    "                remaining_literals.remove(feature)\n",
    "            elif observation[feature] == False:\n",
    "    \n",
    "                memory.memorize('NOT ' + feature)\n",
    "                remaining_literals.remove('NOT ' + feature)\n",
    "    for literal in remaining_literals:\n",
    "        memory.forget(literal)\n"
   ]
  },
  {
   "cell_type": "code",
   "execution_count": 83,
   "id": "0c242a52",
   "metadata": {},
   "outputs": [],
   "source": [
    "def type_ii_feedback(observation, memory):\n",
    "    if evaluate_condition(observation, memory.get_condition()) == True:\n",
    "        for feature in observation:\n",
    "#             memorize the opposite of the key, do not touch the key itself \n",
    "            if observation[feature] == False:\n",
    "                memory.memorize_always(feature)\n",
    "            elif observation[feature] == True:\n",
    "                memory.memorize_always('NOT ' + feature)"
   ]
  },
  {
   "cell_type": "code",
   "execution_count": 84,
   "id": "7a63bb71",
   "metadata": {},
   "outputs": [],
   "source": [
    "def classify(observation, car_rules, plane_rules):\n",
    "    vote_sum = 0\n",
    "    for car_rule in car_rules:\n",
    "        if evaluate_condition(observation, car_rule.get_condition()) == True:\n",
    "            vote_sum += 1\n",
    "    for plane_rule in plane_rules:\n",
    "        if evaluate_condition(observation, plane_rule.get_condition()) == True:\n",
    "            vote_sum -= 1\n",
    "    print(\"Vote sum is \", vote_sum)\n",
    "    if vote_sum >= 0:\n",
    "        return \"Recurrence\"\n",
    "    else:\n",
    "        return \"No Recurrence\""
   ]
  },
  {
   "cell_type": "code",
   "execution_count": 89,
   "id": "a97c03dc",
   "metadata": {},
   "outputs": [
    {
     "name": "stdout",
     "output_type": "stream",
     "text": [
      "===================Classification Recurrence=====================\n",
      "Vote sum is  2\n",
      "Recurrence\n",
      "Vote sum is  2\n",
      "Recurrence\n",
      "Vote sum is  1\n",
      "Recurrence\n",
      "===================Classification Non Recurrence=====================\n",
      "Vote sum is  -1\n",
      "No Recurrence\n",
      "Vote sum is  -1\n",
      "No Recurrence\n",
      "Vote sum is  -1\n",
      "No Recurrence\n"
     ]
    }
   ],
   "source": [
    "print(\"===================Classification Recurrence=====================\")\n",
    "print(classify(patients_with_recurrence[0], [rule_1, rule_2], [rule_3]))\n",
    "print(classify(patients_with_recurrence[1], [rule_1, rule_2,], [rule_3]))\n",
    "print(classify(patients_with_recurrence[2], [rule_1, rule_2], [rule_3]))\n",
    "\n",
    "print(\"===================Classification Non Recurrence=====================\")\n",
    "print(classify(patients_no_recurrence[0], [rule_1, rule_2], [rule_3]))\n",
    "print(classify(patients_no_recurrence[1], [rule_1, rule_2,], [rule_3]))\n",
    "print(classify(patients_no_recurrence[2], [rule_1, rule_2,], [rule_3]))"
   ]
  },
  {
   "cell_type": "code",
   "execution_count": 90,
   "id": "ebaa9cde",
   "metadata": {},
   "outputs": [],
   "source": [
    "for i in range(100):\n",
    "    observation_id = choice([0,1,2])\n",
    "    recurrence = choice([0,1])\n",
    "    if recurrence == 1:\n",
    "        type_i_feedback(patients_with_recurrence[observation_id], rule_4_recurrence)\n",
    "    else:\n",
    "        type_ii_feedback(patients_no_recurrence[observation_id], rule_4_recurrence)"
   ]
  },
  {
   "cell_type": "code",
   "execution_count": 91,
   "id": "c2e53ba0",
   "metadata": {},
   "outputs": [],
   "source": [
    "for i in range(100):\n",
    "    observation_id = choice([0,1,2])\n",
    "    recurrence = choice([0,1])\n",
    "    if recurrence == 1:\n",
    "        type_i_feedback(patients_no_recurrence[observation_id], rule_5_no_recurrence)\n",
    "    else:\n",
    "        type_ii_feedback(patients_with_recurrence[observation_id], rule_5_no_recurrence)"
   ]
  },
  {
   "cell_type": "code",
   "execution_count": 92,
   "id": "00699827",
   "metadata": {},
   "outputs": [
    {
     "name": "stdout",
     "output_type": "stream",
     "text": [
      "=========Rule 1==========\n",
      "IF NOT Menopause lt40 AND Deg-malig 3 THEN Recurrence\n",
      "=========Rule 2==========\n",
      "IF NOT Menopause lt40 AND Deg-malig 3 THEN Recurrence\n",
      "=========Rule 3==========\n",
      "IF Inv-Nodes 0-2 THEN Non Recurrence\n",
      "=========Rule 4==========\n",
      "IF Menopause premeno AND NOT Menopause lt40 AND NOT Menopause ge40 AND Inv-Nodes 0-2 AND NOT Inv-Nodes 3-5 AND NOT Inv-Nodes 6-8 AND Deg-malig 3 AND NOT Deg-malig 1 AND NOT Deg-malig 2 THEN Recurrence\n",
      "=========Rule 5==========\n",
      "IF Menopause lt40 AND NOT Menopause ge40 AND NOT Menopause premeno AND Inv-Nodes 0-2 AND NOT Inv-Nodes 3-5 AND NOT Inv-Nodes 6-8 AND Deg-malig 3 AND NOT Deg-malig 1 AND NOT Deg-malig 2 THEN Non Recurrence\n"
     ]
    }
   ],
   "source": [
    "\n",
    "print(\"=========Rule 1==========\")\n",
    "print(\"IF \" + \" AND \".join(rule_1.get_condition()) + \" THEN Recurrence\")\n",
    "print(\"=========Rule 2==========\")\n",
    "print(\"IF \" + \" AND \".join(rule_2.get_condition()) + \" THEN Recurrence\")\n",
    "print(\"=========Rule 3==========\")\n",
    "print(\"IF \" + \" AND \".join(rule_3.get_condition()) + \" THEN Non Recurrence\")\n",
    "print(\"=========Rule 4==========\")\n",
    "print(\"IF \" + \" AND \".join(rule_4_recurrence.get_condition()) + \" THEN Recurrence\")\n",
    "print(\"=========Rule 5==========\")\n",
    "print(\"IF \" + \" AND \".join(rule_5_no_recurrence.get_condition()) + \" THEN Non Recurrence\")\n"
   ]
  },
  {
   "cell_type": "code",
   "execution_count": 95,
   "id": "4554fe8c",
   "metadata": {},
   "outputs": [
    {
     "name": "stdout",
     "output_type": "stream",
     "text": [
      "===================Classification Recurrence=====================\n",
      "Vote sum is  2\n",
      "Recurrence\n",
      "Vote sum is  2\n",
      "Recurrence\n",
      "Vote sum is  2\n",
      "Recurrence\n",
      "===================Classification Non Recurrence=====================\n",
      "Vote sum is  -2\n",
      "No Recurrence\n",
      "Vote sum is  -1\n",
      "No Recurrence\n",
      "Vote sum is  -1\n",
      "No Recurrence\n"
     ]
    }
   ],
   "source": [
    "print(\"===================Classification Recurrence=====================\")\n",
    "print(classify(patients_with_recurrence[0], [rule_1, rule_2, rule_4_recurrence], [rule_3, rule_5_no_recurrence]))\n",
    "print(classify(patients_with_recurrence[1], [rule_1, rule_2, rule_4_recurrence], [rule_3, rule_5_no_recurrence]))\n",
    "print(classify(patients_with_recurrence[2], [rule_1, rule_2, rule_4_recurrence], [rule_3, rule_5_no_recurrence]))\n",
    "\n",
    "print(\"===================Classification Non Recurrence=====================\")\n",
    "print(classify(patients_no_recurrence[0], [rule_1, rule_2, rule_4_recurrence], [rule_3, rule_5_no_recurrence]))\n",
    "print(classify(patients_no_recurrence[1], [rule_1, rule_2, rule_4_recurrence], [rule_3, rule_5_no_recurrence]))\n",
    "print(classify(patients_no_recurrence[2], [rule_1, rule_2, rule_4_recurrence], [rule_3, rule_5_no_recurrence]))\n"
   ]
  },
  {
   "cell_type": "code",
   "execution_count": 96,
   "id": "76fd64f6",
   "metadata": {},
   "outputs": [
    {
     "name": "stdout",
     "output_type": "stream",
     "text": [
      "False\n",
      "False\n",
      "True\n"
     ]
    }
   ],
   "source": [
    "print(evaluate_condition(patients_no_recurrence[0], rule_1.get_condition()))\n",
    "print(evaluate_condition(patients_no_recurrence[0], rule_2.get_condition()))\n",
    "print(evaluate_condition(patients_no_recurrence[0], rule_3.get_condition()))"
   ]
  },
  {
   "cell_type": "code",
   "execution_count": null,
   "id": "1254d3a6",
   "metadata": {},
   "outputs": [],
   "source": []
  },
  {
   "cell_type": "code",
   "execution_count": null,
   "id": "61823666",
   "metadata": {},
   "outputs": [],
   "source": []
  }
 ],
 "metadata": {
  "kernelspec": {
   "display_name": "Python 3 (ipykernel)",
   "language": "python",
   "name": "python3"
  },
  "language_info": {
   "codemirror_mode": {
    "name": "ipython",
    "version": 3
   },
   "file_extension": ".py",
   "mimetype": "text/x-python",
   "name": "python",
   "nbconvert_exporter": "python",
   "pygments_lexer": "ipython3",
   "version": "3.11.3"
  }
 },
 "nbformat": 4,
 "nbformat_minor": 5
}
