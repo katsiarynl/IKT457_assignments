{
 "cells": [
  {
   "cell_type": "code",
   "id": "68bd6ee6",
   "metadata": {
    "ExecuteTime": {
     "end_time": "2024-09-17T08:15:56.456924Z",
     "start_time": "2024-09-17T08:15:56.454583Z"
    }
   },
   "source": [
    "from random import random \n",
    "from random import choice"
   ],
   "outputs": [],
   "execution_count": 39
  },
  {
   "cell_type": "code",
   "id": "cd3d9750",
   "metadata": {
    "ExecuteTime": {
     "end_time": "2024-09-17T08:15:56.473307Z",
     "start_time": "2024-09-17T08:15:56.470097Z"
    }
   },
   "source": [
    "patients_with_recurrence = [\n",
    "    {\"Menopause lt40\": False, \"Menopause ge40\": True, \"Menopause premeno\": False, \n",
    "     \"Inv-Nodes 0-2\": False, \"Inv-Nodes 3-5\":True, \"Inv-Nodes 6-8\": False, \n",
    "     \"Deg-malig 1\": False, \"Deg-malig 2\": False, \"Deg-malig 3\": True\n",
    "     },\n",
    "\n",
    "\n",
    "    {\"Menopause lt40\": False, \"Menopause ge40\": True, \"Menopause premeno\": False, \n",
    "     \"Inv-Nodes 0-2\": False, \"Inv-Nodes 3-5\":False, \"Inv-Nodes 6-8\": True, \n",
    "     \"Deg-malig 1\": False, \"Deg-malig 2\": False, \"Deg-malig 3\": True},\n",
    "\n",
    "\n",
    "    {\"Menopause lt40\": False, \"Menopause ge40\": False, \"Menopause premeno\": True, \n",
    "     \"Inv-Nodes 0-2\": True, \"Inv-Nodes 3-5\":False, \"Inv-Nodes 6-8\": False, \n",
    "     \"Deg-malig 1\": False, \"Deg-malig 2\": False, \"Deg-malig 3\": True},\n",
    "     \n",
    "\n",
    "]"
   ],
   "outputs": [],
   "execution_count": 40
  },
  {
   "cell_type": "code",
   "id": "a80e4069",
   "metadata": {
    "ExecuteTime": {
     "end_time": "2024-09-17T08:15:56.483778Z",
     "start_time": "2024-09-17T08:15:56.480926Z"
    }
   },
   "source": [
    "patients_no_recurrence = [\n",
    "\n",
    "    {\"Menopause lt40\": True, \"Menopause ge40\": False, \"Menopause premeno\": False, \n",
    "     \"Inv-Nodes 0-2\": True, \"Inv-Nodes 3-5\":False, \"Inv-Nodes 6-8\": False, \n",
    "     \"Deg-malig 1\": False, \"Deg-malig 2\": False, \"Deg-malig 3\": True},\n",
    "\n",
    "    {\"Menopause lt40\": False, \"Menopause ge40\": True, \"Menopause premeno\": False, \n",
    "     \"Inv-Nodes 0-2\": True, \"Inv-Nodes 3-5\":False, \"Inv-Nodes 6-8\": False, \n",
    "     \"Deg-malig 1\": False, \"Deg-malig 2\": True, \"Deg-malig 3\": False},\n",
    "\n",
    "    {\"Menopause lt40\": False, \"Menopause ge40\": False, \"Menopause premeno\": True, \n",
    "     \"Inv-Nodes 0-2\": True, \"Inv-Nodes 3-5\":False, \"Inv-Nodes 6-8\": False, \n",
    "     \"Deg-malig 1\": True, \"Deg-malig 2\": False, \"Deg-malig 3\": False},\n",
    "\n",
    "]"
   ],
   "outputs": [],
   "execution_count": 41
  },
  {
   "cell_type": "code",
   "id": "53e4e857",
   "metadata": {
    "ExecuteTime": {
     "end_time": "2024-09-17T08:15:56.492760Z",
     "start_time": "2024-09-17T08:15:56.490220Z"
    }
   },
   "source": [
    "# Checks if the condition is satisfied \n",
    "def evaluate_condition(observation, condition):\n",
    "    truth_value_of_condition = True\n",
    "\n",
    "    for feature in observation:\n",
    "        if feature in condition and observation[feature] == False:\n",
    "            truth_value_of_condition = False\n",
    "            break\n",
    "        if 'NOT ' + feature in condition and observation[feature] == True:\n",
    "            truth_value_of_condition = False\n",
    "         \n",
    "            break\n",
    "    \n",
    "    return truth_value_of_condition"
   ],
   "outputs": [],
   "execution_count": 42
  },
  {
   "cell_type": "code",
   "id": "aa2b0af0",
   "metadata": {
    "ExecuteTime": {
     "end_time": "2024-09-17T08:15:56.501465Z",
     "start_time": "2024-09-17T08:15:56.498174Z"
    }
   },
   "source": [
    "class Memory:\n",
    "    def __init__(self, forget_value, memorize_value, memory):\n",
    "        self.memory = memory\n",
    "        self.forget_value = forget_value\n",
    "        self.memorize_value = memorize_value\n",
    "    \n",
    "    def get_memory(self):\n",
    "        return self.memory\n",
    "    \n",
    "    def get_literals(self):\n",
    "        return list(self.memory.keys())\n",
    "    \n",
    "    def get_condition(self):\n",
    "        condition = []\n",
    "        for literal in self.memory:\n",
    "            if self.memory[literal] >= 6:\n",
    "                condition.append(literal)\n",
    "        return condition\n",
    "        \n",
    "    def memorize(self, literal):\n",
    "        if random() <= self.memorize_value and self.memory[literal] < 10:\n",
    "            self.memory[literal] += 1\n",
    "            \n",
    "    def forget(self, literal):\n",
    "        if random() <= self.forget_value and self.memory[literal] > 1:\n",
    "            self.memory[literal] -= 1\n",
    "            \n",
    "    def memorize_always(self, literal):\n",
    "        if  self.memory[literal] < 10:\n",
    "            self.memory[literal] += 1"
   ],
   "outputs": [],
   "execution_count": 43
  },
  {
   "cell_type": "code",
   "id": "507cc5de",
   "metadata": {
    "ExecuteTime": {
     "end_time": "2024-09-17T08:15:56.509875Z",
     "start_time": "2024-09-17T08:15:56.506584Z"
    }
   },
   "source": [
    "# Recurrence rules\n",
    "rule_1=  Memory(0.2, 0.8, {'Menopause lt40':1, 'Menopause ge40':1, 'Menopause premeno':1, \n",
    "                             'NOT Menopause lt40':10, 'NOT Menopause ge40':1, 'NOT Menopause premeno':1, \n",
    "                             'Inv-Nodes 0-2': 1, 'Inv-Nodes 3-5':1, 'Inv-Nodes 6-8':1, \n",
    "                             'NOT Inv-Nodes 0-2':1, 'NOT Inv-Nodes 3-5': 1, 'NOT Inv-Nodes 6-8': 1, \n",
    "                             'Deg-malig 1':1, 'Deg-malig 2': 1, 'Deg-malig 3':10,\n",
    "                             'NOT Deg-malig 1':1, 'NOT Deg-malig 2':1, 'NOT Deg-malig 3':1,\n",
    "                         \n",
    "                             })\n",
    "\n",
    "rule_2=  Memory(0.2, 0.8,{'Menopause lt40':1, 'Menopause ge40':1, 'Menopause premeno':1, \n",
    "                             'NOT Menopause lt40':10, 'NOT Menopause ge40':1, 'NOT Menopause premeno':1, \n",
    "                             'Inv-Nodes 0-2': 1, 'Inv-Nodes 3-5':1, 'Inv-Nodes 6-8':1, \n",
    "                             'NOT Inv-Nodes 0-2':1, 'NOT Inv-Nodes 3-5': 1, 'NOT Inv-Nodes 6-8': 1, \n",
    "                             'Deg-malig 1':1, 'Deg-malig 2': 1, 'Deg-malig 3':10,\n",
    "                             'NOT Deg-malig 1':1, 'NOT Deg-malig 2':1, 'NOT Deg-malig 3':1,\n",
    "                         \n",
    "                             })\n",
    "\n",
    "# Non-recurrence rule\n",
    "rule_3 = Memory(0.2, 0.8, {'Menopause lt40':1, 'Menopause ge40':1, 'Menopause premeno':1, \n",
    "                             'NOT Menopause lt40':1, 'NOT Menopause ge40':1, 'NOT Menopause premeno':1, \n",
    "                             'Inv-Nodes 0-2': 10, 'Inv-Nodes 3-5':1, 'Inv-Nodes 6-8':1, \n",
    "                             'NOT Inv-Nodes 0-2': 1, 'NOT Inv-Nodes 3-5': 1, 'NOT Inv-Nodes 6-8': 1, \n",
    "                             'Deg-malig 1':1, 'Deg-malig 2': 1, 'Deg-malig 3':1,\n",
    "                             'NOT Deg-malig 1':1, 'NOT Deg-malig 2':1, 'NOT Deg-malig 3':1,\n",
    "                    \n",
    "                             })\n"
   ],
   "outputs": [],
   "execution_count": 44
  },
  {
   "cell_type": "code",
   "id": "8ac9d913",
   "metadata": {
    "ExecuteTime": {
     "end_time": "2024-09-17T08:15:56.517453Z",
     "start_time": "2024-09-17T08:15:56.515533Z"
    }
   },
   "source": [
    "\n",
    "print(\"IF \" + \" AND \".join(rule_1.get_condition()) + \" THEN Recurrence\")\n",
    "\n",
    "print(\"IF \" + \" AND \".join(rule_2.get_condition()) + \" THEN Recurrence\")\n",
    "\n",
    "print(\"IF \" + \" AND \".join(rule_3.get_condition()) + \" THEN No Recurrence\")\n"
   ],
   "outputs": [
    {
     "name": "stdout",
     "output_type": "stream",
     "text": [
      "IF NOT Menopause lt40 AND Deg-malig 3 THEN Recurrence\n",
      "IF NOT Menopause lt40 AND Deg-malig 3 THEN Recurrence\n",
      "IF Inv-Nodes 0-2 THEN No Recurrence\n"
     ]
    }
   ],
   "execution_count": 45
  },
  {
   "cell_type": "code",
   "id": "f3391252",
   "metadata": {
    "ExecuteTime": {
     "end_time": "2024-09-17T08:15:56.587001Z",
     "start_time": "2024-09-17T08:15:56.583750Z"
    }
   },
   "source": [
    "rule_4_recurrence = Memory(0.2, 0.8, {'Menopause lt40':5, 'Menopause ge40':5, 'Menopause premeno':5, \n",
    "                             'NOT Menopause lt40':5, 'NOT Menopause ge40':5, 'NOT Menopause premeno':5, \n",
    "                             'Inv-Nodes 0-2': 5, 'Inv-Nodes 3-5':5, 'Inv-Nodes 6-8':5, \n",
    "                             'NOT Inv-Nodes 0-2': 5, 'NOT Inv-Nodes 3-5': 5, 'NOT Inv-Nodes 6-8': 5, \n",
    "                             'Deg-malig 1':5, 'Deg-malig 2': 5, 'Deg-malig 3':5,\n",
    "                             'NOT Deg-malig 1':5, 'NOT Deg-malig 2':5, 'NOT Deg-malig 3':5,\n",
    "                    \n",
    "                             })\n",
    "\n",
    "\n",
    "rule_5_no_recurrence = Memory(0.2, 0.8, {'Menopause lt40':5, 'Menopause ge40':5, 'Menopause premeno':5, \n",
    "                             'NOT Menopause lt40':5, 'NOT Menopause ge40':5, 'NOT Menopause premeno':5, \n",
    "                             'Inv-Nodes 0-2': 5, 'Inv-Nodes 3-5':5, 'Inv-Nodes 6-8':5, \n",
    "                             'NOT Inv-Nodes 0-2': 5, 'NOT Inv-Nodes 3-5': 5, 'NOT Inv-Nodes 6-8': 5, \n",
    "                             'Deg-malig 1':5, 'Deg-malig 2': 5, 'Deg-malig 3':5,\n",
    "                             'NOT Deg-malig 1':5, 'NOT Deg-malig 2':5, 'NOT Deg-malig 3':5,\n",
    "                    \n",
    "                             })\n"
   ],
   "outputs": [],
   "execution_count": 46
  },
  {
   "cell_type": "code",
   "id": "211250c7",
   "metadata": {
    "ExecuteTime": {
     "end_time": "2024-09-17T08:15:56.595193Z",
     "start_time": "2024-09-17T08:15:56.592856Z"
    }
   },
   "source": [
    "def type_i_feedback(observation, memory):\n",
    "    remaining_literals = memory.get_literals()\n",
    "    if evaluate_condition(observation, memory.get_condition()) == True:\n",
    "        for feature in observation:\n",
    "            if observation[feature] == True:\n",
    "                memory.memorize(feature)\n",
    "                remaining_literals.remove(feature)\n",
    "            elif observation[feature] == False:\n",
    "    \n",
    "                memory.memorize('NOT ' + feature)\n",
    "                remaining_literals.remove('NOT ' + feature)\n",
    "    for literal in remaining_literals:\n",
    "        memory.forget(literal)\n"
   ],
   "outputs": [],
   "execution_count": 47
  },
  {
   "cell_type": "code",
   "id": "0c242a52",
   "metadata": {
    "ExecuteTime": {
     "end_time": "2024-09-17T08:15:56.604120Z",
     "start_time": "2024-09-17T08:15:56.602042Z"
    }
   },
   "source": [
    "def type_ii_feedback(observation, memory):\n",
    "    if evaluate_condition(observation, memory.get_condition()) == True:\n",
    "        for feature in observation:\n",
    "#             memorize the opposite of the key, do not touch the key itself \n",
    "            if observation[feature] == False:\n",
    "                memory.memorize_always(feature)\n",
    "            elif observation[feature] == True:\n",
    "                memory.memorize_always('NOT ' + feature)"
   ],
   "outputs": [],
   "execution_count": 48
  },
  {
   "cell_type": "code",
   "id": "7a63bb71",
   "metadata": {
    "ExecuteTime": {
     "end_time": "2024-09-17T08:15:56.611969Z",
     "start_time": "2024-09-17T08:15:56.609577Z"
    }
   },
   "source": [
    "def classify(observation, car_rules, plane_rules):\n",
    "    vote_sum = 0\n",
    "    vote_sums = []\n",
    "    for car_rule in car_rules:\n",
    "        if evaluate_condition(observation, car_rule.get_condition()) == True:\n",
    "            vote_sum += 1\n",
    "            vote_sums.append(vote_sum)\n",
    "    for plane_rule in plane_rules:\n",
    "        if evaluate_condition(observation, plane_rule.get_condition()) == True:\n",
    "            vote_sum -= 1\n",
    "            vote_sums.append(vote_sum)\n",
    "    print(\"Vote sum is \", vote_sum)\n",
    "    \n",
    "    if vote_sum >= 0:\n",
    "        return \"Recurrence\", vote_sums\n",
    "    else:\n",
    "        return \"No Recurrence\", vote_sums\n",
    "    "
   ],
   "outputs": [],
   "execution_count": 49
  },
  {
   "cell_type": "code",
   "id": "a97c03dc",
   "metadata": {
    "ExecuteTime": {
     "end_time": "2024-09-17T08:15:56.620251Z",
     "start_time": "2024-09-17T08:15:56.617311Z"
    }
   },
   "source": [
    "print(\"===================Classification Recurrence=====================\")\n",
    "print(classify(patients_with_recurrence[0], [rule_1, rule_2], [rule_3]))\n",
    "print(classify(patients_with_recurrence[1], [rule_1, rule_2,], [rule_3]))\n",
    "print(classify(patients_with_recurrence[2], [rule_1, rule_2], [rule_3]))\n",
    "\n",
    "print(\"===================Classification Non Recurrence=====================\")\n",
    "print(classify(patients_no_recurrence[0], [rule_1, rule_2], [rule_3]))\n",
    "print(classify(patients_no_recurrence[1], [rule_1, rule_2,], [rule_3]))\n",
    "print(classify(patients_no_recurrence[2], [rule_1, rule_2,], [rule_3]))"
   ],
   "outputs": [
    {
     "name": "stdout",
     "output_type": "stream",
     "text": [
      "===================Classification Recurrence=====================\n",
      "Vote sum is  2\n",
      "('Recurrence', [1, 2])\n",
      "Vote sum is  2\n",
      "('Recurrence', [1, 2])\n",
      "Vote sum is  1\n",
      "('Recurrence', [1, 2, 1])\n",
      "===================Classification Non Recurrence=====================\n",
      "Vote sum is  -1\n",
      "('No Recurrence', [-1])\n",
      "Vote sum is  -1\n",
      "('No Recurrence', [-1])\n",
      "Vote sum is  -1\n",
      "('No Recurrence', [-1])\n"
     ]
    }
   ],
   "execution_count": 50
  },
  {
   "cell_type": "code",
   "id": "ebaa9cde",
   "metadata": {
    "ExecuteTime": {
     "end_time": "2024-09-17T08:15:56.628697Z",
     "start_time": "2024-09-17T08:15:56.626340Z"
    }
   },
   "source": [
    "for i in range(100):\n",
    "    observation_id = choice([0,1,2])\n",
    "    recurrence = choice([0,1])\n",
    "    if recurrence == 1:\n",
    "        type_i_feedback(patients_with_recurrence[observation_id], rule_4_recurrence)\n",
    "    else:\n",
    "        type_ii_feedback(patients_no_recurrence[observation_id], rule_4_recurrence)"
   ],
   "outputs": [],
   "execution_count": 51
  },
  {
   "cell_type": "code",
   "id": "c2e53ba0",
   "metadata": {
    "ExecuteTime": {
     "end_time": "2024-09-17T08:15:56.636362Z",
     "start_time": "2024-09-17T08:15:56.634081Z"
    }
   },
   "source": [
    "for i in range(100):\n",
    "    observation_id = choice([0,1,2])\n",
    "    recurrence = choice([0,1])\n",
    "    if recurrence == 1:\n",
    "        type_i_feedback(patients_no_recurrence[observation_id], rule_5_no_recurrence)\n",
    "    else:\n",
    "        type_ii_feedback(patients_with_recurrence[observation_id], rule_5_no_recurrence)"
   ],
   "outputs": [],
   "execution_count": 52
  },
  {
   "cell_type": "code",
   "id": "00699827",
   "metadata": {
    "ExecuteTime": {
     "end_time": "2024-09-17T08:15:56.644764Z",
     "start_time": "2024-09-17T08:15:56.642268Z"
    }
   },
   "source": [
    "\n",
    "print(\"=========Rule 1==========\")\n",
    "print(\"IF \" + \" AND \".join(rule_1.get_condition()) + \" THEN Recurrence\")\n",
    "print(\"=========Rule 2==========\")\n",
    "print(\"IF \" + \" AND \".join(rule_2.get_condition()) + \" THEN Recurrence\")\n",
    "print(\"=========Rule 3==========\")\n",
    "print(\"IF \" + \" AND \".join(rule_3.get_condition()) + \" THEN Non Recurrence\")\n",
    "print(\"=========Rule 4==========\")\n",
    "print(\"IF \" + \" AND \".join(rule_4_recurrence.get_condition()) + \" THEN Recurrence\")\n",
    "print(\"=========Rule 5==========\")\n",
    "print(\"IF \" + \" AND \".join(rule_5_no_recurrence.get_condition()) + \" THEN Non Recurrence\")\n"
   ],
   "outputs": [
    {
     "name": "stdout",
     "output_type": "stream",
     "text": [
      "=========Rule 1==========\n",
      "IF NOT Menopause lt40 AND Deg-malig 3 THEN Recurrence\n",
      "=========Rule 2==========\n",
      "IF NOT Menopause lt40 AND Deg-malig 3 THEN Recurrence\n",
      "=========Rule 3==========\n",
      "IF Inv-Nodes 0-2 THEN Non Recurrence\n",
      "=========Rule 4==========\n",
      "IF Menopause ge40 AND NOT Menopause lt40 AND Inv-Nodes 6-8 AND NOT Inv-Nodes 3-5 AND Deg-malig 3 AND NOT Deg-malig 1 AND NOT Deg-malig 2 THEN Recurrence\n",
      "=========Rule 5==========\n",
      "IF Menopause ge40 AND NOT Menopause lt40 AND NOT Menopause premeno AND Inv-Nodes 0-2 AND NOT Inv-Nodes 3-5 AND NOT Inv-Nodes 6-8 AND Deg-malig 2 AND NOT Deg-malig 1 AND NOT Deg-malig 3 THEN Non Recurrence\n"
     ]
    }
   ],
   "execution_count": 53
  },
  {
   "cell_type": "code",
   "id": "4554fe8c",
   "metadata": {
    "ExecuteTime": {
     "end_time": "2024-09-17T08:15:56.658213Z",
     "start_time": "2024-09-17T08:15:56.654903Z"
    }
   },
   "source": [
    "print(\"===================Classification Recurrence=====================\")\n",
    "print(classify(patients_with_recurrence[0], [rule_1, rule_2, rule_4_recurrence], [rule_3, rule_5_no_recurrence]))\n",
    "print(classify(patients_with_recurrence[1], [rule_1, rule_2, rule_4_recurrence], [rule_3, rule_5_no_recurrence]))\n",
    "print(classify(patients_with_recurrence[2], [rule_1, rule_2, rule_4_recurrence], [rule_3, rule_5_no_recurrence]))\n",
    "\n",
    "print(\"===================Classification Non Recurrence=====================\")\n",
    "print(classify(patients_no_recurrence[0], [rule_1, rule_2, rule_4_recurrence], [rule_3, rule_5_no_recurrence]))\n",
    "print(classify(patients_no_recurrence[1], [rule_1, rule_2, rule_4_recurrence], [rule_3, rule_5_no_recurrence]))\n",
    "print(classify(patients_no_recurrence[2], [rule_1, rule_2, rule_4_recurrence], [rule_3, rule_5_no_recurrence]))\n"
   ],
   "outputs": [
    {
     "name": "stdout",
     "output_type": "stream",
     "text": [
      "===================Classification Recurrence=====================\n",
      "Vote sum is  2\n",
      "('Recurrence', [1, 2])\n",
      "Vote sum is  3\n",
      "('Recurrence', [1, 2, 3])\n",
      "Vote sum is  1\n",
      "('Recurrence', [1, 2, 1])\n",
      "===================Classification Non Recurrence=====================\n",
      "Vote sum is  -1\n",
      "('No Recurrence', [-1])\n",
      "Vote sum is  -2\n",
      "('No Recurrence', [-1, -2])\n",
      "Vote sum is  -1\n",
      "('No Recurrence', [-1])\n"
     ]
    }
   ],
   "execution_count": 54
  },
  {
   "cell_type": "code",
   "id": "76fd64f6",
   "metadata": {
    "ExecuteTime": {
     "end_time": "2024-09-17T08:15:56.726441Z",
     "start_time": "2024-09-17T08:15:56.724393Z"
    }
   },
   "source": [
    "print(evaluate_condition(patients_no_recurrence[0], rule_1.get_condition()))\n",
    "print(evaluate_condition(patients_no_recurrence[0], rule_2.get_condition()))\n",
    "print(evaluate_condition(patients_no_recurrence[0], rule_3.get_condition()))"
   ],
   "outputs": [
    {
     "name": "stdout",
     "output_type": "stream",
     "text": [
      "False\n",
      "False\n",
      "True\n"
     ]
    }
   ],
   "execution_count": 55
  },
  {
   "metadata": {},
   "cell_type": "markdown",
   "source": "Draw plot (animation)",
   "id": "f059637a6b45d341"
  },
  {
   "cell_type": "code",
   "id": "1254d3a6",
   "metadata": {
    "ExecuteTime": {
     "end_time": "2024-09-17T08:15:56.792929Z",
     "start_time": "2024-09-17T08:15:56.790921Z"
    }
   },
   "source": [
    "import matplotlib.pyplot as plt\n",
    "import matplotlib.animation as animation\n",
    "from random import choice"
   ],
   "outputs": [],
   "execution_count": 56
  },
  {
   "metadata": {
    "ExecuteTime": {
     "end_time": "2024-09-17T08:16:01.807363Z",
     "start_time": "2024-09-17T08:15:56.803792Z"
    }
   },
   "cell_type": "code",
   "source": [
    "def plot(frame):\n",
    "    ax.clear()\n",
    "    \n",
    "    x_positions = list(range(len(all_conditions))) \n",
    "    y_values = [condition_memory_values[condition][frame] for condition in all_conditions]  \n",
    "\n",
    "\n",
    "    ax.scatter(x_positions, y_values, color='b')  \n",
    "    ax.set_ylim([0, 10]) \n",
    "    ax.set_xlim([-1, len(all_conditions)]) \n",
    "    ax.set_xticks(x_positions)  \n",
    "    ax.set_xticklabels(all_conditions, rotation=90) \n",
    "    ax.set_xlabel('Conditions') \n",
    "    ax.set_ylabel('Memory Value') \n",
    "    ax.set_title(f'Memory {frame}')  \n",
    "    ax.grid(True)  \n",
    "\n",
    "\n",
    "conditions = ['Menopause lt40', 'Menopause ge40', 'Menopause premeno', \n",
    "              'Inv-Nodes 0-2', 'Inv-Nodes 3-5', 'Inv-Nodes 6-8', \n",
    "              'Deg-malig 1', 'Deg-malig 2', 'Deg-malig 3']\n",
    "\n",
    "negated_conditions = ['NOT ' + condition for condition in conditions]\n",
    "all_conditions = conditions + negated_conditions\n",
    "\n",
    "# Dictionary for memory values for conditions\n",
    "condition_memory_values = {condition: [] for condition in all_conditions}\n",
    "\n",
    "# Init memory for each condition\n",
    "initial_memory_values = 5\n",
    "\n",
    "rule_5_recurrence = Memory(0.5, 0.5, {condition: initial_memory_values for condition in all_conditions})\n",
    "\n",
    "# Simulate feedback\n",
    "for i in range(100):\n",
    "    observation_id = choice([0, 1, 2])\n",
    "    recurrence = choice([0, 1])\n",
    "\n",
    "    # Feedback and memory values tracking for each condition\n",
    "    if recurrence == 1:\n",
    "        type_i_feedback(patients_with_recurrence[observation_id], rule_5_recurrence)\n",
    "    else:\n",
    "        type_ii_feedback(patients_no_recurrence[observation_id], rule_5_recurrence)\n",
    "\n",
    "    # Track memory values for each condition \n",
    "    for condition in all_conditions:\n",
    "        condition_memory_values[condition].append(rule_5_recurrence.memory[condition])\n",
    "\n",
    "# Print rules for the last iteration\n",
    "print(\"IF \" + \" AND \".join(rule_5_recurrence.get_condition()) + \" THEN No Recurrence\")\n",
    "\n",
    "# Number of itarations\n",
    "iterations = len(next(iter(condition_memory_values.values())))\n",
    "\n",
    "\n",
    "fig, ax = plt.subplots(figsize=(10, 6)) \n",
    "ani = animation.FuncAnimation(fig, plot, frames=range(1, iterations), repeat=False)\n",
    "ani.save('memory_evolution.mp4', writer='ffmpeg')\n",
    "plt.show()\n"
   ],
   "id": "b4743bf12833fca8",
   "outputs": [
    {
     "name": "stdout",
     "output_type": "stream",
     "text": [
      "IF Menopause ge40 AND Deg-malig 3 AND NOT Menopause lt40 AND NOT Menopause premeno AND NOT Inv-Nodes 0-2 AND NOT Deg-malig 1 AND NOT Deg-malig 2 THEN No Recurrence\n"
     ]
    },
    {
     "data": {
      "text/plain": [
       "<Figure size 1000x600 with 1 Axes>"
      ],
      "image/png": "[encoded data removed]"
     },
     "metadata": {},
     "output_type": "display_data"
    }
   ],
   "execution_count": 57
  },
  {
   "metadata": {
    "ExecuteTime": {
     "end_time": "2024-09-17T08:16:01.815839Z",
     "start_time": "2024-09-17T08:16:01.814301Z"
    }
   },
   "cell_type": "code",
   "source": "",
   "id": "345b721f53b81884",
   "outputs": [],
   "execution_count": null
  },
  {
   "metadata": {
    "ExecuteTime": {
     "end_time": "2024-09-17T08:16:01.827560Z",
     "start_time": "2024-09-17T08:16:01.826179Z"
    }
   },
   "cell_type": "code",
   "source": "",
   "id": "2349e361ddd72211",
   "outputs": [],
   "execution_count": null
  }
 ],
 "metadata": {
  "kernelspec": {
   "display_name": "Python 3 (ipykernel)",
   "language": "python",
   "name": "python3"
  },
  "language_info": {
   "codemirror_mode": {
    "name": "ipython",
    "version": 3
   },
   "file_extension": ".py",
   "mimetype": "text/x-python",
   "name": "python",
   "nbconvert_exporter": "python",
   "pygments_lexer": "ipython3",
   "version": "3.11.3"
  }
 },
 "nbformat": 4,
 "nbformat_minor": 5
}
